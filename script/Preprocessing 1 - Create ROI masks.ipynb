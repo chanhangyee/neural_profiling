{
 "cells": [
  {
   "cell_type": "code",
   "execution_count": 1,
   "metadata": {
    "collapsed": true
   },
   "outputs": [],
   "source": [
    "import os, sys, time, glob\n",
    "import numpy as np\n",
    "import scipy as sp\n",
    "import mvpa2.suite as mvpa2"
   ]
  },
  {
   "cell_type": "code",
   "execution_count": 2,
   "metadata": {
    "collapsed": true
   },
   "outputs": [],
   "source": [
    "def ensure_dir(ed):\n",
    "    try: \n",
    "        os.makedirs(ed)\n",
    "    except OSError:\n",
    "        if not os.path.isdir(ed):\n",
    "            raise"
   ]
  },
  {
   "cell_type": "markdown",
   "metadata": {},
   "source": [
    "Create ROI masks with different thresholds (1%, 2%, and 5%)"
   ]
  },
  {
   "cell_type": "code",
   "execution_count": 122,
   "metadata": {
    "collapsed": false
   },
   "outputs": [
    {
     "name": "stdout",
     "output_type": "stream",
     "text": [
      "910 1708 3173 7125  \n"
     ]
    }
   ],
   "source": [
    "tmap_files = glob.glob('../spm/normalized/picture/category/*/con_0001.nii')\n",
    "mask_file = '../spm/normalized/picture/category/family-party/mask.nii'\n",
    "#mask_file = '../roi/normalized/cortex-mask.nii.gz'\n",
    "\n",
    "tmaps = mvpa2.fmri_dataset(tmap_files, mask=mask_file)\n",
    "\n",
    "for thres in [0.5,1,2,5]:\n",
    "    output_file = '../roi/normalized/common_mask/picture_thresh'+str(thres)+'.nii'\n",
    "\n",
    "    masks = []\n",
    "    for i in range(tmaps.nsamples):\n",
    "        low_thres = np.percentile(tmaps.samples[i,:],float(thres)/2)\n",
    "        high_thres = np.percentile(tmaps.samples[i,:],100.-(float(thres)/2))\n",
    "        mask = ((tmaps.samples[i,:] < low_thres) | (tmaps.samples[i,:] > high_thres))\n",
    "        masks.append(mask)\n",
    "\n",
    "    masks = np.array(masks)\n",
    "    roi_mask = np.any(masks,axis=0)\n",
    "    print np.sum(roi_mask),\n",
    "\n",
    "    roi_file = mvpa2.map2nifti(tmaps,data=roi_mask)\n",
    "    roi_file.to_filename(output_file)\n",
    "print \" \""
   ]
  },
  {
   "cell_type": "markdown",
   "metadata": {},
   "source": [
    "Create ROI masks that exclude occipital lobe"
   ]
  },
  {
   "cell_type": "code",
   "execution_count": 124,
   "metadata": {
    "collapsed": false
   },
   "outputs": [
    {
     "name": "stdout",
     "output_type": "stream",
     "text": [
      "476 953 1930 4998  \n"
     ]
    }
   ],
   "source": [
    "tmap_files = glob.glob('../spm/normalized/picture/category/*/con_0001.nii')\n",
    "mask_file = '../spm/normalized/picture/category/family-party/mask.nii'\n",
    "#mask_file = '../roi/normalized/cortex-mask.nii.gz'\n",
    "\n",
    "tmaps = mvpa2.fmri_dataset(tmap_files, mask=mask_file,add_fa={'occip':'../roi/normalized/occipital_lobe_resampled.nii'})\n",
    "\n",
    "for thres in [0.5,1,2,5]:\n",
    "    output_file = '../roi/normalized/common_mask/picture_thresh'+str(thres)+'_no_occip.nii'\n",
    "\n",
    "    masks = []\n",
    "    for i in range(tmaps.nsamples):\n",
    "        low_thres = np.percentile(tmaps.samples[i,:],float(thres)/2)\n",
    "        high_thres = np.percentile(tmaps.samples[i,:],100.-(float(thres)/2))\n",
    "        mask = ((tmaps.samples[i,:] < low_thres) | (tmaps.samples[i,:] > high_thres))\n",
    "        masks.append(mask)\n",
    "        \n",
    "    masks = np.array(masks)\n",
    "    roi_mask = np.any(masks,axis=0)\n",
    "    \n",
    "    roi_mask = np.all(np.array([roi_mask,(tmaps.fa.occip == 0)]),axis=0)\n",
    "    \n",
    "    print np.sum(roi_mask),\n",
    "\n",
    "    roi_file = mvpa2.map2nifti(tmaps,data=roi_mask)\n",
    "    roi_file.to_filename(output_file)\n",
    "print \" \""
   ]
  },
  {
   "cell_type": "markdown",
   "metadata": {},
   "source": [
    "Create individual ROI masks"
   ]
  },
  {
   "cell_type": "code",
   "execution_count": 125,
   "metadata": {
    "collapsed": false
   },
   "outputs": [
    {
     "name": "stdout",
     "output_type": "stream",
     "text": [
      "4 848 1607 3107 7221  \n",
      "5 942 1805 3434 7826  \n",
      "6 915 1780 3361 7774  \n",
      "7 922 1744 3329 7596  \n",
      "8 926 1780 3417 8054  \n",
      "9 871 1675 3230 7510  \n",
      "10 870 1684 3304 7780  \n",
      "11 944 1852 3518 8174  \n",
      "12 863 1644 3159 7229  \n",
      "13 867 1623 3100 7141  \n",
      "14 822 1586 3178 7270  \n",
      "15 914 1711 3226 7169  \n",
      "16 963 1778 3372 7786  \n",
      "17 949 1784 3321 7539  \n",
      "18 950 1809 3412 7645  \n",
      "19 875 1654 3146 7288  \n",
      "20 872 1671 3270 7606  \n",
      "21 957 1805 3386 7711  \n",
      "22 923 1775 3446 7979  \n",
      "23 920 1751 3318 7597  \n",
      "24 921 1762 3385 7797  \n",
      "25 898 1725 3277 7507  \n",
      "26 917 1735 3278 7457  \n",
      "27 920 1723 3293 7358  \n",
      "28 943 1797 3392 7732  \n",
      "29 942 1768 3385 7716  \n",
      "30 930 1750 3290 7566  \n",
      "31 909 1724 3273 7505  \n",
      "32 895 1748 3353 7823  \n",
      "33 926 1797 3395 7727  \n",
      "34 929 1717 3220 7270  \n",
      "35 941 1762 3320 7583  \n",
      "36 871 1656 3171 7308  \n",
      "37 891 1684 3310 7549  \n",
      "38 955 1802 3380 7435  \n",
      "39 926 1772 3370 7703  \n",
      "40 983 1831 3496 7966  \n",
      "41 945 1764 3283 7448  \n"
     ]
    }
   ],
   "source": [
    "for subj in range(4,42):\n",
    "\n",
    "    print subj,\n",
    "    \n",
    "    tmap_files = glob.glob('../spm/normalized/picture/S%d/by_category/con_*.nii'%subj)\n",
    "    mask_file = '../spm/normalized/picture/category/family-party/mask.nii'\n",
    "\n",
    "    tmaps = mvpa2.fmri_dataset(tmap_files, mask=mask_file)\n",
    "\n",
    "    for thres in [0.5,1,2,5]:\n",
    "        ensure_dir('../roi/normalized/picture_thresh'+str(thres))\n",
    "        output_file = '../roi/normalized/picture_thresh'+str(thres)+'/S'+str(subj)+'.nii'\n",
    "\n",
    "        masks = []\n",
    "        for i in range(tmaps.nsamples):\n",
    "            low_thres = np.percentile(tmaps.samples[i,:],float(thres)/2)\n",
    "            high_thres = np.percentile(tmaps.samples[i,:],100.-(float(thres)/2))\n",
    "            mask = ((tmaps.samples[i,:] < low_thres) | (tmaps.samples[i,:] > high_thres))\n",
    "            masks.append(mask)\n",
    "\n",
    "        masks = np.array(masks)\n",
    "        roi_mask = np.any(masks,axis=0)\n",
    "        print np.sum(roi_mask),\n",
    "\n",
    "        roi_file = mvpa2.map2nifti(tmaps,data=roi_mask)\n",
    "        roi_file.to_filename(output_file)\n",
    "    print \" \""
   ]
  },
  {
   "cell_type": "markdown",
   "metadata": {},
   "source": [
    "Create individual ROI masks (native)"
   ]
  },
  {
   "cell_type": "code",
   "execution_count": 3,
   "metadata": {
    "collapsed": false
   },
   "outputs": [
    {
     "name": "stdout",
     "output_type": "stream",
     "text": [
      "4WARNING: Detected incorrect (nan) scl_ fields. Resetting to scl_slope=1.0 and scl_inter=0.0\n",
      " * Please note: warnings are printed only once, but underlying problem might occur many times *\n",
      " 1319 2584 4977 11439  \n",
      "5 1477 2770 5250 12052  \n",
      "6 1379 2583 4889 11173  \n",
      "7 1165 2249 4372 10278  \n",
      "8 1114 2151 4216 10430  \n",
      "9 1017 2023 4008 9454  \n",
      "10 1040 2115 4307 10526  \n",
      "11 1222 2368 4605 10744  \n",
      "12 1256 2390 4553 10724  \n",
      "13 1276 2378 4481 10365  \n",
      "14 1108 2198 4301 10192  \n",
      "15 1203 2334 4555 10695  \n",
      "16 1283 2561 5066 11957  \n",
      "17 1106 2300 4633 11141  \n",
      "18 1358 2536 4821 11357  \n",
      "19 1071 2082 3899 8965  \n",
      "20 1185 2227 4253 9856  \n",
      "21 1481 2813 5262 12040  \n",
      "22 1168 2245 4317 10036  \n",
      "23 1100 2113 4014 9094  \n",
      "24 1115 2096 4017 9318  \n",
      "25 1273 2401 4581 10743  \n",
      "26 1059 2058 3943 9047  \n",
      "27 1164 2269 4382 10093  \n",
      "28 1343 2619 5028 11631  \n",
      "29 1067 2088 4004 9273  \n",
      "30 1390 2597 4882 11225  \n",
      "31 927 1998 4153 10011  \n",
      "32 1402 2643 5052 11615  \n",
      "33 1481 2863 5469 12426  \n",
      "34 1364 2484 4581 10414  \n",
      "35 1180 2250 4335 9963  \n",
      "36 1237 2391 4569 10703  \n",
      "37 909 1824 3697 9121  \n",
      "38 1342 2552 4833 10916  \n",
      "39 1205 2317 4541 10632  \n",
      "40 1366 2606 4905 11314  \n",
      "41 1331 2523 4678 10545  \n"
     ]
    }
   ],
   "source": [
    "for subj in range(4,42):\n",
    "\n",
    "    print subj,\n",
    "    \n",
    "    tmap_files = glob.glob('../spm/native/picture/S%d/by_category/con_*.nii'%subj)\n",
    "    mask_file = '../spm/native/picture/S%d/by_category/mask.nii'%subj\n",
    "\n",
    "    tmaps = mvpa2.fmri_dataset(tmap_files, mask=mask_file)\n",
    "\n",
    "    for thres in [0.5,1,2,5]:\n",
    "        ensure_dir('../roi/native/picture_thresh'+str(thres))\n",
    "        output_file = '../roi/native/picture_thresh'+str(thres)+'/S'+str(subj)+'.nii'\n",
    "\n",
    "        masks = []\n",
    "        for i in range(tmaps.nsamples):\n",
    "            low_thres = np.percentile(tmaps.samples[i,:],float(thres)/2)\n",
    "            high_thres = np.percentile(tmaps.samples[i,:],100.-(float(thres)/2))\n",
    "            mask = ((tmaps.samples[i,:] < low_thres) | (tmaps.samples[i,:] > high_thres))\n",
    "            masks.append(mask)\n",
    "\n",
    "        masks = np.array(masks)\n",
    "        roi_mask = np.any(masks,axis=0)\n",
    "        print np.sum(roi_mask),\n",
    "\n",
    "        roi_file = mvpa2.map2nifti(tmaps,data=roi_mask)\n",
    "        roi_file.to_filename(output_file)\n",
    "    print \" \""
   ]
  },
  {
   "cell_type": "markdown",
   "metadata": {},
   "source": [
    "** Archived **"
   ]
  },
  {
   "cell_type": "code",
   "execution_count": 53,
   "metadata": {
    "collapsed": false
   },
   "outputs": [
    {
     "name": "stdout",
     "output_type": "stream",
     "text": [
      "4 8348 6669 4224  \n",
      "5 3545 2633 1497  \n",
      "6 6594 5025 2942  \n",
      "7 3093 2350 1338  \n",
      "8 930 509 146  \n",
      "9 2056 1467 735  \n",
      "10 4460 3411 1889  \n",
      "11 3072 2224 1186  \n",
      "12 12795 10609 7095  \n",
      "13 7309 5620 3172  \n",
      "14 6633 5175 3109  \n",
      "15 9414 7803 5242  \n",
      "16 5680 4274 2311  \n",
      "17 7228 5717 3464  \n",
      "18 6427 4898 2687  \n",
      "19 4398 3143 1499  \n",
      "20 4030 2895 1432  \n",
      "21 5187 3864 2214  \n",
      "22 1505 974 367  \n",
      "23 3971 3024 1694  \n",
      "24 3137 2420 1507  \n",
      "25 9455 7251 4047  \n",
      "26 5405 4204 2468  \n",
      "27 7729 6356 4150  \n",
      "28 5740 4341 2397  \n",
      "29 1630 1197 587  \n",
      "30 3633 2769 1612  \n",
      "31 6448 5102 3155  \n",
      "32 3276 2298 1151  \n",
      "33 4282 3284 1845  \n",
      "34 6315 5042 3128  \n",
      "35 4862 3937 2597  \n",
      "36 10368 8610 5955  \n",
      "37 4366 3177 1529  \n",
      "38 3853 3022 1891  \n",
      "39 2488 1788 870  \n",
      "40 5609 4455 2923  \n",
      "41 3939 2798 1450  \n"
     ]
    }
   ],
   "source": [
    "t_val = { '001': 3.102588,'0005': 3.305284,'0001': 3.739951}\n",
    "\n",
    "for subj in range(4,42):\n",
    "\n",
    "    print subj,\n",
    "    \n",
    "    tmap_files = glob.glob('../spm/native/picture/S%d/by_category/spmT_*.nii'%subj)\n",
    "    mask_file = '../spm/native/picture/S%d/by_category/mask.nii'%subj\n",
    "\n",
    "    tmaps = mvpa2.fmri_dataset(tmap_files, mask=mask_file)\n",
    "\n",
    "    for thres in ['001','0005','0001']:\n",
    "        ensure_dir('../roi/native/picture_p'+thres)\n",
    "        output_file = '../roi/native/picture_p'+thres+'/S'+str(subj)+'.nii'\n",
    "\n",
    "        pos_mask = np.any(tmaps.samples > t_val[thres],axis=0)\n",
    "        neg_mask = np.any(tmaps.samples < -t_val[thres],axis=0)\n",
    "        \n",
    "        roi_mask = np.any(np.array([pos_mask,neg_mask]),axis=0)\n",
    "        print np.sum(roi_mask),\n",
    "        \n",
    "        roi_file = mvpa2.map2nifti(tmaps,data=roi_mask)\n",
    "        roi_file.to_filename(output_file)\n",
    "    print \" \""
   ]
  },
  {
   "cell_type": "code",
   "execution_count": null,
   "metadata": {
    "collapsed": true
   },
   "outputs": [],
   "source": [
    "for subj in range(4,42):\n",
    "    print subj,\n",
    "    \n",
    "    tmap_files = glob.glob('../spm/native/picture/S%d/by_category/spmT_*.nii'%subj)\n",
    "    mask_file = '../spm/native/picture/S%d/by_category/mask.nii'%subj\n",
    "\n",
    "    tmaps = mvpa2.fmri_dataset(tmap_files, mask=mask_file)\n",
    "\n",
    "    percentile = []\n",
    "    for i in range(tmaps.nsamples):\n",
    "        percentile.append(sp.stats.rankdata(tmaps.samples[i,:]).astype(float) / tmaps.nfeatures * 100)\n",
    "\n",
    "    for thres in [0.5,1,2,5,10]:\n",
    "        output_file = '../roi/native/picture_'+str(thres)+'/S'+str(subj)+'.nii'\n",
    "\n",
    "        masks = []\n",
    "        for i in range(tmaps.nsamples):\n",
    "            mask = ((percentile[i] < thres) | (percentile[i] > (100-thres)))\n",
    "            masks.append(mask)\n",
    "\n",
    "        masks = np.array(masks)\n",
    "        roi_mask = np.any(masks,axis=0)\n",
    "        print np.sum(roi_mask),\n",
    "        \n",
    "        roi_file = mvpa2.map2nifti(tmaps,data=roi_mask)\n",
    "        roi_file.to_filename(output_file)\n",
    "    print \" \""
   ]
  },
  {
   "cell_type": "code",
   "execution_count": 44,
   "metadata": {
    "collapsed": false
   },
   "outputs": [
    {
     "name": "stdout",
     "output_type": "stream",
     "text": [
      "4 3391 6275 11568 25386 43532  \n",
      "5 3430 6496 12077 26398 44064  \n",
      "6 3212 6121 11294 24568 41079  \n",
      "7 3034 5684 10502 22836 38511  \n",
      "8 3348 6251 11531 24396 40061  \n",
      "9 2916 5438 10086 21580 35688  \n",
      "10 3091 5908 10955 23833 40062  \n",
      "11 3115 5906 11027 23461 38924  \n",
      "12 3062 5917 10880 23667 40447  \n",
      "13 3082 5797 10787 23507 39962  \n",
      "14 2974 5704 10689 23320 39447  \n",
      "15 3108 5857 10903 24020 41303  \n",
      "16 3567 6778 12611 27233 45583  \n",
      "17 3230 6087 11205 24438 41542  \n",
      "18 3527 6650 12370 26671 44132  \n",
      "19 3016 5757 10602 22580 37090  \n",
      "20 2953 5628 10556 22669 37647  \n",
      "21 3412 6492 12121 26517 44788  \n",
      "22 2962 5604 10375 22192 36787  \n",
      "23 2820 5183 9573 20793 34923  \n",
      "24 2783 5197 9665 20883 34899  \n",
      "25 3300 6191 11563 24623 40946  \n",
      "26 2674 5153 9542 20459 34218  \n",
      "27 2754 5186 9670 21243 36271  \n",
      "28 3336 6206 11471 24887 42085  \n",
      "29 2743 5166 9606 20784 34436  \n",
      "30 3269 6201 11692 25294 42523  \n",
      "31 3061 5833 10678 22887 38312  \n",
      "32 3429 6544 12197 26559 44129  \n",
      "33 3343 6245 11578 25529 43543  \n",
      "34 2834 5449 10298 22790 39123  \n",
      "35 2915 5526 10377 22810 38377  \n",
      "36 3003 5676 10493 23112 39481  \n",
      "37 2901 5503 10164 21862 36172  \n",
      "38 3195 6009 11088 24129 40781  \n",
      "39 3061 5713 10572 23044 38923  \n",
      "40 3307 6198 11347 24366 40857  \n",
      "41 3196 6091 11391 24959 41825  \n"
     ]
    }
   ],
   "source": [
    "for subj in range(4,42):\n",
    "    print subj,\n",
    "    \n",
    "    tmap_files = glob.glob('../spm/native/picture/S%d/by_category/spmT_*.nii'%subj)\n",
    "    mask_file = '../spm/native/picture/S%d/by_category/mask.nii'%subj\n",
    "\n",
    "    tmaps = mvpa2.fmri_dataset(tmap_files, mask=mask_file)\n",
    "\n",
    "    percentile = []\n",
    "    for i in range(tmaps.nsamples):\n",
    "        percentile.append(sp.stats.rankdata(tmaps.samples[i,:]).astype(float) / tmaps.nfeatures * 100)\n",
    "\n",
    "    for thres in [0.5,1,2,5,10]:\n",
    "        output_file = '../roi/native/picture_'+str(thres)+'/S'+str(subj)+'.nii'\n",
    "\n",
    "        masks = []\n",
    "        for i in range(tmaps.nsamples):\n",
    "            mask = ((percentile[i] < thres) | (percentile[i] > (100-thres)))\n",
    "            masks.append(mask)\n",
    "\n",
    "        masks = np.array(masks)\n",
    "        roi_mask = np.any(masks,axis=0)\n",
    "        print np.sum(roi_mask),\n",
    "        \n",
    "        roi_file = mvpa2.map2nifti(tmaps,data=roi_mask)\n",
    "        roi_file.to_filename(output_file)\n",
    "    print \" \""
   ]
  },
  {
   "cell_type": "code",
   "execution_count": 58,
   "metadata": {
    "collapsed": false
   },
   "outputs": [
    {
     "name": "stdout",
     "output_type": "stream",
     "text": [
      "13905 11913 8281 7115 4837 3252 2724 1776  \n"
     ]
    }
   ],
   "source": [
    "t_val = { '001': 3.325631,'0005': 3.573675,'0001': 4.127484,'00005':4.359130,'00001':4.886848,'fwe10':5.404273,'fwe05':5.626703,'fwe01':6.142829}\n",
    "\n",
    "tmap_files = glob.glob('../spm/normalized/picture/category/*/spmT_0001.nii')\n",
    "mask_file = '../spm/normalized/picture/category/family-party/mask.nii'\n",
    "\n",
    "tmaps = mvpa2.fmri_dataset(tmap_files, mask=mask_file)\n",
    "\n",
    "for thres in ['001','0005','0001','00005','00001','fwe10','fwe05','fwe01']:\n",
    "    output_file = '../roi/normalized/common_mask/picture_p'+thres+'.nii'\n",
    "\n",
    "    pos_mask = np.any(tmaps.samples > t_val[thres],axis=0)\n",
    "    neg_mask = np.any(tmaps.samples < -t_val[thres],axis=0)\n",
    "\n",
    "    roi_mask = np.any(np.array([pos_mask,neg_mask]),axis=0)\n",
    "    print np.sum(roi_mask),\n",
    "\n",
    "    roi_file = mvpa2.map2nifti(tmaps,data=roi_mask)\n",
    "    roi_file.to_filename(output_file)\n",
    "print \" \""
   ]
  }
 ],
 "metadata": {
  "kernelspec": {
   "display_name": "Python [Root]",
   "language": "python",
   "name": "Python [Root]"
  },
  "language_info": {
   "codemirror_mode": {
    "name": "ipython",
    "version": 2
   },
   "file_extension": ".py",
   "mimetype": "text/x-python",
   "name": "python",
   "nbconvert_exporter": "python",
   "pygments_lexer": "ipython2",
   "version": "2.7.12"
  }
 },
 "nbformat": 4,
 "nbformat_minor": 0
}
