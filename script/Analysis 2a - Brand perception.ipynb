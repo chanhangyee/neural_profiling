{
 "cells": [
  {
   "cell_type": "code",
   "execution_count": 1,
   "metadata": {
    "collapsed": false,
    "scrolled": true
   },
   "outputs": [],
   "source": [
    "import os, sys, time\n",
    "import numpy as np\n",
    "import scipy as sp\n",
    "import pandas as pd\n",
    "import seaborn as sns\n",
    "import mvpa2.suite as mvpa2\n",
    "import itertools\n",
    "\n",
    "from collections import Counter\n",
    "\n",
    "import matplotlib.pylab as plt\n",
    "%matplotlib inline\n",
    "\n",
    "from scipy.spatial.distance import pdist,squareform\n",
    "\n",
    "TR = 2.3\n",
    "\n",
    "brands = np.array(['abercrombie-fitch','adobe','apple','axe','beats',\n",
    "          'campina','dell','disney','durex','heineken','kelloggs',\n",
    "          'microsoft','pampers','redbull'])\n",
    "\n",
    "cat_names = ['work','sex','family','party']\n",
    "\n",
    "sns.reset_orig()\n",
    "plt.rc('font', family='Arial', size=16)\n",
    "plt.rc('legend', fontsize='medium')\n",
    "plt.rc('savefig', dpi=300)"
   ]
  },
  {
   "cell_type": "code",
   "execution_count": 2,
   "metadata": {
    "collapsed": true
   },
   "outputs": [],
   "source": [
    "def mean_corr(data):\n",
    "    return np.tanh(np.mean(np.arctanh(data)))\n",
    "def zscore(data):\n",
    "    return (data-np.nanmean(data))/np.nanstd(data)"
   ]
  },
  {
   "cell_type": "code",
   "execution_count": 3,
   "metadata": {
    "collapsed": true
   },
   "outputs": [],
   "source": [
    "subjs = []\n",
    "\n",
    "allsubjs = np.array(range(4,42))\n",
    "\n",
    "for subj in allsubjs[allsubjs != 8]:\n",
    "    if os.path.isfile('../survey/brand/S'+str(subj)+'_brand.csv'):\n",
    "        subjs.append(subj) "
   ]
  },
  {
   "cell_type": "code",
   "execution_count": 4,
   "metadata": {
    "collapsed": false
   },
   "outputs": [],
   "source": [
    "#method = 'native_indiv'\n",
    "method = 'normalized_common'\n",
    "r = 'picture_thresh2'\n",
    "#r = 'picture_thresh2_entire_beta'\n",
    "\n",
    "file_path = '../output/'+method+'/'+r.replace(\"picture\",\"brand\")\n",
    "\n",
    "subj_brand_ds = {}\n",
    "allsubjs = np.array(range(4,42))\n",
    "\n",
    "for subj in allsubjs:\n",
    "    subj_brand_ds[subj] = mvpa2.Dataset.from_hdf5(file_path+'/S'+str(subj)+'.h5py')"
   ]
  },
  {
   "cell_type": "markdown",
   "metadata": {},
   "source": [
    "Single time-point"
   ]
  },
  {
   "cell_type": "code",
   "execution_count": 5,
   "metadata": {
    "collapsed": false
   },
   "outputs": [
    {
     "name": "stdout",
     "output_type": "stream",
     "text": [
      "0.0517027173578\n"
     ]
    }
   ],
   "source": [
    "TR_type = 't012'\n",
    "tp = 6\n",
    "\n",
    "#TR_type = 't0'\n",
    "#tp = 0\n",
    "\n",
    "corr_dist = []\n",
    "output = np.zeros((len(subjs)*14*4,5))\n",
    "\n",
    "for i,subj in enumerate(subjs):\n",
    "    behave = []\n",
    "    neural = []\n",
    "\n",
    "    brand_ds = subj_brand_ds[subj]\n",
    "\n",
    "    survey_file = '../survey/brand/S'+str(subj)+'_brand.csv'\n",
    "    survey = np.recfromcsv(survey_file,delimiter=',')\n",
    "\n",
    "    for j,cn in enumerate(cat_names):\n",
    "        behave.append(survey[:][cn])\n",
    "\n",
    "        neural_score = []\n",
    "        output_line = np.array(6)\n",
    "        for b in range(14):\n",
    "            n = np.mean(brand_ds[(brand_ds.sa.brand == brands[b]) & \\\n",
    "                                 (brand_ds.sa.timepoint >= tp) & \\\n",
    "                                 (brand_ds.sa.timepoint < tp+TR)]\\\n",
    "                                .sa[TR_type+'_'+cn+'_est'])\n",
    "            neural_score.append(n)\n",
    "\n",
    "        neural.append(neural_score)\n",
    "        \n",
    "        idx = i*4*14+j*14\n",
    "        output[idx:idx+14,0] = subj\n",
    "        output[idx:idx+14,1] = j\n",
    "        output[idx:idx+14,2] = range(1,15)\n",
    "        output[idx:idx+14,3] = behave[-1]          \n",
    "        output[idx:idx+14,4] = neural[-1]\n",
    "        \n",
    "    neural = np.ravel(neural)\n",
    "    behave = np.ravel(behave)\n",
    "    corr_dist.append(sp.stats.pearsonr(neural,behave)[0])\n",
    "print mean_corr(corr_dist)\n",
    "\n",
    "f = open('brand_'+method+'_'+r+'_theme.csv','w')\n",
    "f.write('subj,theme,brand,behave,neural\\n')\n",
    "for o in output:\n",
    "    text_o = [str(oo) for oo in o]\n",
    "    text_o[1] = cat_names[int(o[1])]#str(4-o[3])+'_'+cat_names[int(o[3])]\n",
    "    f.write(','.join(text_o)+'\\n') \n",
    "f.close()"
   ]
  },
  {
   "cell_type": "markdown",
   "metadata": {},
   "source": [
    "Plot time series (c.f. Supplementary Analysis 11)"
   ]
  },
  {
   "cell_type": "code",
   "execution_count": 15,
   "metadata": {
    "collapsed": false
   },
   "outputs": [
    {
     "name": "stdout",
     "output_type": "stream",
     "text": [
      "0.00565369592012\n",
      "0.0662931424779\n",
      "0.0863739058834\n",
      "0.114736252379\n",
      "0.140734481465\n",
      "0.117987038572\n",
      "0.116925500078\n",
      "0.107915103186\n",
      "0.102109796377\n",
      "0.117827605835\n"
     ]
    }
   ],
   "source": [
    "TR_type = 't0'\n",
    "\n",
    "for tp in range(10):\n",
    "\n",
    "    corr_dist = []\n",
    "\n",
    "    for subj in subjs:\n",
    "        behave = []\n",
    "        neural = []\n",
    "        \n",
    "        brand_ds = subj_brand_ds[subj]\n",
    "\n",
    "        survey_file = '../survey/brand/S'+str(subj)+'_brand.csv'\n",
    "        survey = np.recfromcsv(survey_file,delimiter=',')\n",
    "\n",
    "        for j,cn in enumerate(cat_names):\n",
    "            behave.append(zscore(survey[:][cn]))\n",
    "\n",
    "            neural_score = []\n",
    "            output_line = np.array(6)\n",
    "            for b in range(14):\n",
    "                n = np.mean(brand_ds[(brand_ds.sa.brand == brands[b]) & \\\n",
    "                                     (brand_ds.sa.timepoint >= tp) & \\\n",
    "                                     (brand_ds.sa.timepoint < tp+TR)]\\\n",
    "                                    .sa[TR_type+'_'+cn+'_est'])\n",
    "                neural_score.append(n)\n",
    "\n",
    "            neural.append(zscore(neural_score))\n",
    "\n",
    "        neural = np.ravel(neural)\n",
    "        behave = np.ravel(behave)\n",
    "        corr_dist.append(sp.stats.pearsonr(neural,behave)[0])\n",
    "    print mean_corr(corr_dist)"
   ]
  },
  {
   "cell_type": "markdown",
   "metadata": {},
   "source": [
    "Plot graph"
   ]
  },
  {
   "cell_type": "code",
   "execution_count": 6,
   "metadata": {
    "collapsed": false
   },
   "outputs": [
    {
     "data": {
      "image/png": "[encoded data removed]",
      "text/plain": [
       "<matplotlib.figure.Figure at 0x7f788d13dd10>"
      ]
     },
     "metadata": {},
     "output_type": "display_data"
    }
   ],
   "source": [
    "TR_type = 't012'\n",
    "tp = 5.5\n",
    "\n",
    "new_order = ['abercrombie-fitch','axe','durex',\n",
    "             'heineken','redbull',             \n",
    "             'beats','apple','adobe',\n",
    "             'dell','microsoft',\n",
    "             'campina','disney','kelloggs','pampers']\n",
    "\n",
    "new_names = ['A&F','Axe','Durex',\n",
    "             'Heineken','Red Bull',             \n",
    "             'Beats','Apple','Adobe',\n",
    "             'Dell','Microsoft',\n",
    "             'Campina','Disney','Kellogg\\'s','Pampers']\n",
    "\n",
    "sns.set_style('white')\n",
    "order_no = np.ravel([np.where(brands == new_order[i]) for i in range(len(new_order))])\n",
    "plt.rc('font', family='Arial',size=8)\n",
    "plt.rc('axes', labelsize='medium')\n",
    "plt.rc('lines', linewidth=0.1)\n",
    "\n",
    "behave_score = np.zeros((4,len(subjs),14)) * np.nan\n",
    "neural_score = np.zeros((4,len(subjs),14)) * np.nan\n",
    "\n",
    "subj_score = []\n",
    "\n",
    "for i,subj in enumerate(subjs):\n",
    "    \n",
    "    brand_ds = subj_brand_ds[subj]\n",
    "    \n",
    "    survey_file = '../survey/brand/S'+str(subj)+'_brand.csv'\n",
    "    survey = np.recfromcsv(survey_file,delimiter=',')\n",
    "            \n",
    "    for j,cn in enumerate(cat_names):\n",
    "        for b in range(14):\n",
    "            behave_score[j,i,b] = survey[b][cn]\n",
    "            neural_score[j,i,b] = np.mean(brand_ds[(brand_ds.sa.brand == brands[b]) & \\\n",
    "                    (brand_ds.sa.timepoint >= tp) & \\\n",
    "                    (brand_ds.sa.timepoint < tp+TR)].sa[TR_type+'_'+cn+'_est'])\n",
    "\n",
    "#for j,cn in enumerate(cat_names):\n",
    "#    neural_score[j,:,:] = zscore(neural_score[j,:,:]) \n",
    "for i,subj in enumerate(subjs):\n",
    "    for j,cn in enumerate(cat_names):\n",
    "        neural_score[j,i,:] = zscore(neural_score[j,i,:]) \n",
    "        \n",
    "bscore = np.nanmean(behave_score,axis=1)[:,order_no]-50\n",
    "nscore = np.nanmean(neural_score,axis=1)[:,order_no]\n",
    "\n",
    "bstd = sp.stats.sem(behave_score,axis=1)[:,order_no]\n",
    "nstd = sp.stats.sem(neural_score,axis=1)[:,order_no]\n",
    "\n",
    "fig, axe2 = plt.subplots(4, 2, figsize=(3.3,5.8))\n",
    "\n",
    "for i in range(4):\n",
    "    ind = np.arange(14)  # the x locations for the groups\n",
    "    width = 1       # the width of the bars\n",
    "    \n",
    "    axe = axe2[i,:]\n",
    "    \n",
    "    ax = axe[0]\n",
    "    \n",
    "    rects1 = ax.bar(ind, bscore[i,:], width, color='lightgrey', ecolor='black', lw=0.5)\n",
    "    err,_,_ = ax.errorbar(ind+0.5, bscore[i,:], bstd[i,:], capsize=1.5, capthick=0.5, ecolor='black', elinewidth=0.5)\n",
    "    err.set_linestyle('None')\n",
    "    \n",
    "    ax.set_ylabel('Survey score',labelpad=-11)\n",
    "    ax.set_xticks(ind+0.6)\n",
    "    ax.set_yticks([-50,50])\n",
    "    ax.xaxis.set_ticks_position('none') \n",
    "    ax.set_ylim([-50,50])\n",
    "    ax.set_xlim([0,14.2])\n",
    "    ax.tick_params('y',labelsize=6)\n",
    "\n",
    "    ax.set_xticklabels(new_names, rotation=90, ha='center',size=6)\n",
    "    ax.spines['top'].set_visible(False)\n",
    "    ax.spines['right'].set_visible(False)\n",
    "    ax.spines['bottom'].set_visible(False)\n",
    "    ax.spines['left'].set_linewidth(0.5)\n",
    "    ax.yaxis.set_ticks_position('left')\n",
    "\n",
    "    ax = axe[1]    \n",
    "\n",
    "    rects1 = ax.bar(ind, nscore[i,:], width, color='white', ecolor='black', lw=0.5)\n",
    "    err,_,_ = ax.errorbar(ind+0.5, nscore[i,:], nstd[i,:], capsize=1.5, capthick=0.5, ecolor='black', elinewidth=0.5)\n",
    "    err.set_linestyle('None')\n",
    "        \n",
    "    ax.set_ylabel('Neural score',labelpad=-8)\n",
    "    ax.set_xticks(ind+0.6)\n",
    "    ax.set_yticks([-1,1])\n",
    "    ax.xaxis.set_ticks_position('none') \n",
    "    ax.set_ylim([-1,1])\n",
    "    ax.set_xlim([0,14.2])\n",
    "    ax.tick_params('y',labelsize=6)\n",
    "\n",
    "    ax.set_xticklabels(new_names, rotation=90, ha='center',size=6)\n",
    "    \n",
    "    ax.spines['top'].set_visible(False)\n",
    "    ax.spines['right'].set_visible(False)\n",
    "    ax.spines['bottom'].set_visible(False)\n",
    "    ax.spines['left'].set_linewidth(0.5)\n",
    "    ax.yaxis.set_ticks_position('left')\n",
    "    \n",
    "fig.tight_layout()\n",
    "plt.savefig('brand_theme_score_pub.pdf',fmt='pdf')\n",
    "plt.show()"
   ]
  }
 ],
 "metadata": {
  "kernelspec": {
   "display_name": "Python [Root]",
   "language": "python",
   "name": "Python [Root]"
  },
  "language_info": {
   "codemirror_mode": {
    "name": "ipython",
    "version": 2
   },
   "file_extension": ".py",
   "mimetype": "text/x-python",
   "name": "python",
   "nbconvert_exporter": "python",
   "pygments_lexer": "ipython2",
   "version": "2.7.12"
  }
 },
 "nbformat": 4,
 "nbformat_minor": 0
}
