{
 "cells": [
  {
   "cell_type": "markdown",
   "metadata": {},
   "source": [
    "# Analysis pipeline"
   ]
  },
  {
   "cell_type": "markdown",
   "metadata": {},
   "source": [
    "_Refer to _`jmr.17.0019.pdf`_ for page numbers_"
   ]
  },
  {
   "cell_type": "markdown",
   "metadata": {},
   "source": [
    "## Preprocessing"
   ]
  },
  {
   "cell_type": "markdown",
   "metadata": {},
   "source": [
    "- Realignment and co-registration\n",
    "- 3mm FWHM smoothing (refer to `p.53`)"
   ]
  },
  {
   "cell_type": "markdown",
   "metadata": {},
   "source": [
    "## Preparing neural context scores and neural profiles"
   ]
  },
  {
   "cell_type": "markdown",
   "metadata": {},
   "source": [
    "- Obtain contrast maps of each social context pair comparison (`p.14`): `spm\\Create Picture Category Betas.py`\n",
    "- Obtain ROI mask based on contrast maps (`p.14`): `Preprocessing 1 - Create ROI masks.ipynb`\n",
    "- Extract raw voxel data using the mask (`p.14`): `Preprocessing 2 - Extract voxel data.ipynb`\n",
    "- Calculate neural context scores and neural profiles (`p.15-16`): `Preprocessing 3 - Calculate scores.ipynb`"
   ]
  },
  {
   "cell_type": "markdown",
   "metadata": {},
   "source": [
    "## Main analysis"
   ]
  },
  {
   "cell_type": "markdown",
   "metadata": {},
   "source": [
    "- The average classification accuracy is 44.9%, SD = 8.2%, which is significantly above chance at 25% (t(36) = 14.6, p < .0001), indicating that the voxels contained information for social context decoding. (`p.16`): `Analysis 1 - Picture category accuracy.ipynb`\n",
    "- Overall, neural context scores significantly correlated with survey responses (F(1,1501.28) = 15.7, p < .0001) (`p.17`): `Analysis 2a - Brand perception.ipynb` and `Analysis 2b - Brand perception.ipynb` (mixed-effect modelling in R)\n",
    "- The average correlation (after Fisher’s r-to-z transformation, Silver & Dunlap, 1987) was .107, and the Fisher-transformed correlations were significantly different from zero (t(36) = 6.16, p < .0001). (`p.18`): `Analysis 3 - Brand dissimilarity.ipynb`\n",
    "- We found the relationship between the aggregated interbrand neural profile disparity matrix and the co-branding suitability matrix to be significantly negative (Figure 6B, r = -.384, p < .0001). (`p.22`): `Analysis 3 - Brand dissimilarity.ipynb`\n",
    "- However, the correlation between average intersubject neural profile disparity and brand image strength was significant (Figure 7, r = -.627, p = .013 based on permutations) (`p.23`): `Analysis 4 - Brand image strength.ipynb`"
   ]
  },
  {
   "cell_type": "markdown",
   "metadata": {},
   "source": [
    "## Supplementary analysis"
   ]
  },
  {
   "cell_type": "markdown",
   "metadata": {},
   "source": [
    "- `Analysis 1 (Robustness check).ipynb`\n",
    "- `Analysis 2 (Robustness check).ipynb`\n",
    "- `Analysis 3 (Robustness check).ipynb`"
   ]
  }
 ],
 "metadata": {
  "kernelspec": {
   "display_name": "Python [Root]",
   "language": "python",
   "name": "Python [Root]"
  },
  "language_info": {
   "codemirror_mode": {
    "name": "ipython",
    "version": 2
   },
   "file_extension": ".py",
   "mimetype": "text/x-python",
   "name": "python",
   "nbconvert_exporter": "python",
   "pygments_lexer": "ipython2",
   "version": "2.7.12"
  }
 },
 "nbformat": 4,
 "nbformat_minor": 0
}
