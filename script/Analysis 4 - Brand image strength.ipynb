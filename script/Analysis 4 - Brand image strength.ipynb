{
 "cells": [
  {
   "cell_type": "code",
   "execution_count": 1,
   "metadata": {
    "collapsed": false,
    "scrolled": true
   },
   "outputs": [],
   "source": [
    "import os, sys, time\n",
    "import numpy as np\n",
    "import scipy as sp\n",
    "import pandas as pd\n",
    "import seaborn as sns\n",
    "import mvpa2.suite as mvpa2\n",
    "import itertools\n",
    "\n",
    "from collections import Counter\n",
    "\n",
    "import matplotlib.pylab as plt\n",
    "%matplotlib inline\n",
    "\n",
    "from scipy.spatial.distance import pdist,squareform\n",
    "\n",
    "TR = 2.3\n",
    "\n",
    "brands = np.array(['abercrombie-fitch','adobe','apple','axe','beats',\n",
    "          'campina','dell','disney','durex','heineken','kelloggs',\n",
    "          'microsoft','pampers','redbull'])\n",
    "\n",
    "cat_names = ['party','work','sex','family']\n",
    "\n",
    "sns.reset_orig()\n",
    "plt.rc('font', family='Arial', size=8)\n",
    "plt.rc('legend', fontsize='medium')\n",
    "plt.rc('savefig', dpi=300)"
   ]
  },
  {
   "cell_type": "code",
   "execution_count": 2,
   "metadata": {
    "collapsed": false
   },
   "outputs": [],
   "source": [
    "brand_equity = np.loadtxt('../survey/post/brand_equity.csv',delimiter=',')\n",
    "brand_equity[:,-1] = 100 - brand_equity[:,-1]\n",
    "\n",
    "brand_loyalty = np.mean(brand_equity[:,2:5],axis=1)\n",
    "brand_quality = np.mean(brand_equity[:,5:7],axis=1)\n",
    "\n",
    "brand_preference = np.mean(brand_equity[:,2:7],axis=1)\n",
    "brand_association = np.mean(brand_equity[:,7:12],axis=1)\n",
    "\n",
    "brand_loyalty_avg = [np.mean(brand_loyalty[brand_equity[:,1]==b]) for b in range(14)]\n",
    "brand_quality_avg = [np.mean(brand_quality[brand_equity[:,1]==b]) for b in range(14)]\n",
    "\n",
    "brand_preference_avg = [np.mean(brand_preference[brand_equity[:,1]==b]) for b in range(14)]\n",
    "brand_association_avg = [np.mean(brand_association[brand_equity[:,1]==b]) for b in range(14)]"
   ]
  },
  {
   "cell_type": "code",
   "execution_count": 3,
   "metadata": {
    "collapsed": false
   },
   "outputs": [],
   "source": [
    "method = 'normalized_common'\n",
    "r = 'picture_thresh2'\n",
    "\n",
    "file_path = '../output/'+method+'/'+r.replace(\"picture\",\"brand\")\n",
    "\n",
    "subj_brand_ds = {}\n",
    "allsubjs = np.array(range(4,42))\n",
    "\n",
    "for subj in allsubjs:\n",
    "    subj_brand_ds[subj] = mvpa2.Dataset.from_hdf5(file_path+'/S'+str(subj)+'.h5py')"
   ]
  },
  {
   "cell_type": "code",
   "execution_count": 4,
   "metadata": {
    "collapsed": false
   },
   "outputs": [
    {
     "name": "stdout",
     "output_type": "stream",
     "text": [
      "(-0.62679872487508159, 0.016446804790007274) (-0.32872513520389368, 0.25115238813245999) (-0.32229402482350861, 0.26109663921316678) (-0.30137295552409343, 0.29505339955207777)\n"
     ]
    }
   ],
   "source": [
    "TR_type = 't012'\n",
    "tp = 6\n",
    "\n",
    "subjs = allsubjs[(allsubjs != 8)]\n",
    "\n",
    "brand_reliability = []\n",
    "\n",
    "for b in range(14):\n",
    "    b_r = []\n",
    "    for subj in subjs:\n",
    "        brand_ds = subj_brand_ds[subj]\n",
    "\n",
    "        b_r.append(\\\n",
    "        np.mean(np.array(brand_ds[(brand_ds.sa.brand == brands[b]) & \\\n",
    "                             (brand_ds.sa.timepoint >= tp+0) & \\\n",
    "                             (brand_ds.sa.timepoint < tp+0+TR)]\\\n",
    "                            .sa[TR_type+'_rsa']),axis=0))\n",
    "    brand_reliability.append(squareform(pdist(np.array(b_r),metric='correlation')))\n",
    "\n",
    "neural_reliability = [np.mean(squareform(b)) for b in brand_reliability]\n",
    "print sp.stats.pearsonr(neural_reliability,brand_association_avg), sp.stats.pearsonr(neural_reliability,brand_preference_avg), sp.stats.pearsonr(neural_reliability,brand_loyalty_avg), sp.stats.pearsonr(neural_reliability,brand_quality_avg)"
   ]
  },
  {
   "cell_type": "code",
   "execution_count": 6,
   "metadata": {
    "collapsed": false
   },
   "outputs": [
    {
     "data": {
      "image/png": "[encoded data removed]",
      "text/plain": [
       "<matplotlib.figure.Figure at 0x7f7606ba2250>"
      ]
     },
     "metadata": {},
     "output_type": "display_data"
    },
    {
     "data": {
      "text/plain": [
       "(-0.62679872487508159, 0.016446804790007274)"
      ]
     },
     "execution_count": 6,
     "metadata": {},
     "output_type": "execute_result"
    }
   ],
   "source": [
    "d = {'neural': neural_reliability,#[np.mean(zz[zz[:,5]==m,4]) for m in range(14)], \n",
    "     'behave': brand_association_avg}#[np.mean(zz[zz[:,5]==m,3]) for m in range(14)]}\n",
    "df = pd.DataFrame(data=d)\n",
    "sns.reset_orig()\n",
    "sns.set_style(\"ticks\")\n",
    "plt.rc('font', family='Arial',size=8)\n",
    "sns.set_palette([(0.5,0.5,0.5),(0,0,0)],n_colors=1,desat=0.0)\n",
    "sns.lmplot(x=\"neural\", y=\"behave\", data=df,markers='o',size=3.3,scatter_kws={\"s\": 0, \"color\":'k'})\n",
    "\n",
    "for label, x, y in zip(brands, neural_reliability, brand_association_avg):\n",
    "    ha = 'right'\n",
    "    va = 'bottom'\n",
    "    if label in ['kelloggs','abercrombie-fitch','durex','axe','pampers']:\n",
    "        offset = (-2,-2)\n",
    "        va = 'top'\n",
    "    elif label in ['redbull','dell','campina','disney']:\n",
    "        offset = (4,0)\n",
    "        ha = 'left'\n",
    "        va = 'center'\n",
    "    elif label in ['xxx']:\n",
    "        offset = (-2,-2)\n",
    "        ha = 'right'\n",
    "        va = 'top'\n",
    "    elif label in ['durex']:\n",
    "        offset = (3,-3)\n",
    "        ha = 'center'\n",
    "        va = 'top'\n",
    "    elif label in ['apple','microsoft','pampers']:\n",
    "        offset = (3,0)\n",
    "        ha = 'left'\n",
    "        va = 'bottom'\n",
    "    #elif label in []:\n",
    "    #    offset = (-2,0)\n",
    "    #    va = 'top'\n",
    "    #elif label in ['disney']:\n",
    "    #    offset = (0,4)\n",
    "    #    ha = 'center'\n",
    "    else:\n",
    "        offset = (-2,2)\n",
    "    \n",
    "    if label == 'abercrombie-fitch':\n",
    "        brand_name = \"A&F\"\n",
    "    elif label == 'kelloggs':\n",
    "        brand_name = \"Kellogg\\'s\"\n",
    "    elif label == 'redbull':\n",
    "        brand_name = \"Red Bull\"\n",
    "    else:\n",
    "        brand_name = label.capitalize()\n",
    "    plt.annotate(\n",
    "        brand_name, \n",
    "        xy = (x, y), xytext = offset, fontsize=8, color = 'k',\n",
    "        textcoords = 'offset points', ha = ha, va = va)\n",
    "\n",
    "plt.scatter(neural_reliability, brand_association_avg, color='k',s=10)\n",
    "\n",
    "plt.xticks([0.96,0.98,1,1.02],)\n",
    "plt.xticks([0.96,0.98,1,1.02])\n",
    "#plt.yticks([3,4,5,6,7])\n",
    "#plt.yticks([-2,0,2])\n",
    "plt.ylim([40,100])\n",
    "#plt.xlim([0.97,1.01])\n",
    "#plt.ylim([3,7])\n",
    "plt.ylabel(\"Brand Image Strength\")\n",
    "plt.xlabel(\"Intersubject Neural Profile Disparity\")\n",
    "\n",
    "#plt.rc('lines', color= 'black')\n",
    "plt.savefig('reliability_average_pub.pdf',fmt='pdf')\n",
    "plt.show()\n",
    "sp.stats.pearsonr(d['neural'],d['behave'])"
   ]
  },
  {
   "cell_type": "code",
   "execution_count": 136,
   "metadata": {
    "collapsed": false
   },
   "outputs": [
    {
     "name": "stdout",
     "output_type": "stream",
     "text": [
      "* * * * * * * * * * * * * * * * * * * * * * * * * * * * * * * * * * * * * * * * * * * * * * * * * * * * * * * * * * * * * * * * * * * * * * * * * * * * * * * * * * * * * * * * * * * * * * * * * * * *\n"
     ]
    }
   ],
   "source": [
    "null_res = []\n",
    "tp = 6\n",
    "\n",
    "for p in range(10000):\n",
    "    null_neural_reliability = []\n",
    "    \n",
    "    for b in range(14):\n",
    "        b_r = []\n",
    "        for subj in subjs:\n",
    "            brand_ds = subj_brand_ds[subj]\n",
    "            b_r.append(\\\n",
    "            np.mean(np.array(brand_ds[(brand_ds.sa.brand == brands[np.random.randint(14)]) & \\\n",
    "                                 (brand_ds.sa.timepoint >= tp) & \\\n",
    "                                 (brand_ds.sa.timepoint < tp+TR)]\\\n",
    "                                .sa['t012_rsa']),axis=0))\n",
    "        null_neural_reliability.append(np.mean(pdist(np.array(b_r),metric='correlation')))\n",
    "    \n",
    "    null_corr = np.corrcoef([null_neural_reliability,brand_association_avg,brand_preference_avg,brand_loyalty_avg,brand_quality_avg])\n",
    "    null_res.append(null_corr[0][1:])\n",
    "    \n",
    "    if p % 100 == 0:\n",
    "        print \"*\",\n",
    "#np.save('../output/nulldata_analysis_4.npy', np.array(null_res))"
   ]
  },
  {
   "cell_type": "code",
   "execution_count": 153,
   "metadata": {
    "collapsed": false
   },
   "outputs": [
    {
     "name": "stdout",
     "output_type": "stream",
     "text": [
      "0.0032\n"
     ]
    }
   ],
   "source": [
    "print sp.stats.percentileofscore(null_res[:,0],-0.626)*2/100"
   ]
  },
  {
   "cell_type": "markdown",
   "metadata": {},
   "source": [
    "## Supplementary Analysis 9"
   ]
  },
  {
   "cell_type": "code",
   "execution_count": 147,
   "metadata": {
    "collapsed": false
   },
   "outputs": [
    {
     "name": "stdout",
     "output_type": "stream",
     "text": [
      "* * * * * * * * * * -0.517725534375 0.125331646942\n",
      "* * * * * * * * * * -0.585291097051 0.0793915801381\n",
      "* * * * * * * * * * -0.614184694874 0.0446140998109\n"
     ]
    }
   ],
   "source": [
    "TR_type = 't012'\n",
    "\n",
    "tp = 6\n",
    "\n",
    "subjs = allsubjs[(allsubjs != 8)]\n",
    "\n",
    "results = []\n",
    "\n",
    "for thres in [28,28*2,28*3]:\n",
    "    all_res = []\n",
    "    for perm in range(1000):\n",
    "        mask = (np.arange(112) < thres)\n",
    "        np.random.shuffle(mask)\n",
    "\n",
    "        brand_reliability = []\n",
    "\n",
    "        for b in range(14):\n",
    "            b_r = []\n",
    "            for subj in subjs:\n",
    "                brand_ds = subj_brand_ds[subj]\n",
    "\n",
    "                b_r.append(\\\n",
    "                np.mean(np.array(brand_ds[(brand_ds.sa.brand == brands[b]) & \\\n",
    "                                     (brand_ds.sa.timepoint >= tp+0) & \\\n",
    "                                     (brand_ds.sa.timepoint < tp+0+TR)]\\\n",
    "                                    .sa[TR_type+'_rsa']),axis=0))\n",
    "            brand_reliability.append(squareform(pdist(np.array(b_r)[:,mask],metric='correlation')))\n",
    "\n",
    "        neural_reliability = [np.mean(squareform(b)) for b in brand_reliability]\n",
    "        all_res.append(sp.stats.pearsonr(neural_reliability,brand_association_avg)[0])\n",
    "        \n",
    "        if perm % 100 == 0:\n",
    "            print \"*\",\n",
    "            \n",
    "    results.append(all_res)\n",
    "    print np.mean(all_res),np.std(all_res)    "
   ]
  },
  {
   "cell_type": "code",
   "execution_count": 148,
   "metadata": {
    "collapsed": false
   },
   "outputs": [
    {
     "name": "stdout",
     "output_type": "stream",
     "text": [
      "(-0.63498485845181263, 0.014694729572576054)\n",
      "(-0.51139132703292234, 0.061611638330473582)\n",
      "(-0.36239767937011946, 0.20288530568273797)\n",
      "(-0.71694640170763346, 0.0039052811262125777)\n"
     ]
    }
   ],
   "source": [
    "tp = 6\n",
    "for part in range(4):\n",
    "    mask = ((np.arange(112) < part*28) | (np.arange(112) >= (part+1)*28))\n",
    "    #np.random.shuffle(mask)\n",
    "\n",
    "    brand_reliability = []\n",
    "\n",
    "    for b in range(14):\n",
    "        b_r = []\n",
    "        for subj in subjs:\n",
    "            brand_ds = subj_brand_ds[subj]\n",
    "\n",
    "            b_r.append(\\\n",
    "            np.mean(np.array(brand_ds[(brand_ds.sa.brand == brands[b]) & \\\n",
    "                                 (brand_ds.sa.timepoint >= tp+0) & \\\n",
    "                                 (brand_ds.sa.timepoint < tp+0+TR)]\\\n",
    "                                .sa[TR_type+'_rsa']),axis=0))\n",
    "        brand_reliability.append(squareform(pdist(np.array(b_r)[:,mask],metric='correlation')))\n",
    "\n",
    "    neural_reliability = [np.mean(squareform(b)) for b in brand_reliability]\n",
    "    print sp.stats.pearsonr(neural_reliability,brand_association_avg)"
   ]
  },
  {
   "cell_type": "markdown",
   "metadata": {},
   "source": [
    "## Supplementary Analysis 11"
   ]
  },
  {
   "cell_type": "code",
   "execution_count": 156,
   "metadata": {
    "collapsed": false
   },
   "outputs": [
    {
     "name": "stdout",
     "output_type": "stream",
     "text": [
      "(-0.0017377691103528416, 0.99529582838945885) (0.34509206630183459, 0.22689537003770732)\n",
      "(-0.41518526685355911, 0.13987538149369583) (-0.083387741905782839, 0.77686112167430443)\n",
      "(-0.47443421231406502, 0.086516719412518067) (-0.34025389292970931, 0.2339088518576983)\n",
      "(-0.45743471535641189, 0.10005477335039188) (-0.11202762231561313, 0.7029863767605431)\n",
      "(-0.3845051139175073, 0.1746428543654511) (0.026931870301699697, 0.92718264241191173)\n",
      "(-0.37290533491074579, 0.18912384414515548) (0.11850894475660263, 0.68657652098927191)\n",
      "(-0.59810468040039488, 0.023864226900654237) (-0.11587850714497296, 0.69322143923960056)\n",
      "(-0.41148569248015349, 0.14380022546676005) (-0.20462878988123842, 0.48283640122913696)\n",
      "(-0.39299827726588304, 0.16450886094856113) (-0.32501557969709638, 0.25685995572014292)\n",
      "(-0.51508103759191959, 0.059445845957763171) (-0.30933884677538598, 0.28183490994543592)\n",
      "(-0.52271302782732609, 0.055140668940278671) (-0.41032536507191064, 0.14504614046527034)\n",
      "(-0.46822144175937752, 0.091305992728442517) (-0.20002469616544358, 0.49294922609360237)\n",
      "(-0.42414864876127056, 0.13066459817309828) (-0.12313589397580993, 0.67493923765440156)\n",
      "(-0.28619989293304682, 0.3212080330077634) (-0.21326361349744979, 0.46413807378476168)\n",
      "(-0.086689498489611119, 0.76824173730162559) (-0.23766205826039802, 0.41326328932843387)\n",
      "(-0.091912570967794899, 0.75465771262025305) (-0.43920620493764051, 0.11612708456612671)\n",
      "(0.0041516183176213842, 0.98876176231461321) (0.047796978072001929, 0.87110339381166724)\n",
      "(0.098278013800377095, 0.73819168534478585) (0.31358517152573373, 0.27493371846061443)\n",
      "(0.3771117350904365, 0.18378678014113251) (0.19871694881118643, 0.49583951573590845)\n",
      "(0.26530910712789629, 0.35928684745482042) (0.099718068655661546, 0.73448073431290528)\n"
     ]
    }
   ],
   "source": [
    "TR_type = 't0'\n",
    "time_series = []\n",
    "for tp in range(20):\n",
    "    subjs = allsubjs[(allsubjs != 8)]\n",
    "\n",
    "    brand_reliability = []\n",
    "\n",
    "    for b in range(14):\n",
    "        b_r = []\n",
    "        for subj in subjs:\n",
    "            brand_ds = subj_brand_ds[subj]\n",
    "\n",
    "            b_r.append(\\\n",
    "            np.mean(np.array(brand_ds[(brand_ds.sa.brand == brands[b]) & \\\n",
    "                                 (brand_ds.sa.timepoint >= tp) & \\\n",
    "                                 (brand_ds.sa.timepoint < tp+TR)]\\\n",
    "                                .sa[TR_type+'_rsa']),axis=0))\n",
    "        brand_reliability.append(squareform(pdist(np.array(b_r),metric='correlation')))\n",
    "\n",
    "    neural_reliability = [np.mean(squareform(b)) for b in brand_reliability]\n",
    "    time_series.append(sp.stats.pearsonr(neural_reliability,brand_association_avg)[0])\n",
    "    print sp.stats.pearsonr(neural_reliability,brand_association_avg), sp.stats.pearsonr(neural_reliability,brand_preference_avg)"
   ]
  },
  {
   "cell_type": "code",
   "execution_count": 157,
   "metadata": {
    "collapsed": false
   },
   "outputs": [
    {
     "data": {
      "image/png": "[encoded data removed]",
      "text/plain": [
       "<matplotlib.figure.Figure at 0x7f187fbba490>"
      ]
     },
     "metadata": {},
     "output_type": "display_data"
    }
   ],
   "source": [
    "plt.figure(figsize=(6.5,4))\n",
    "plt.plot(range(-6,12),time_series[0:18],'k')\n",
    "plt.plot([0,0],[0,-0.7],'k')\n",
    "plt.plot([2,2],[0,-0.7],'k--')\n",
    "plt.plot([4,4],[0,-0.7],'k--')\n",
    "#plt.plot([11,11],[0,-0.7],'k--')\n",
    "#plt.yticks([0,-0.1,-0.2,-0.3,-0.4])\n",
    "plt.xlim([-6,11])\n",
    "plt.ylim([-0.7,0])\n",
    "plt.xlabel(\"Time (s)\")\n",
    "plt.ylabel(\"Correlation\")\n",
    "plt.savefig(\"robust_h4.pdf\",fmt=\"pdf\")\n",
    "plt.show()"
   ]
  }
 ],
 "metadata": {
  "kernelspec": {
   "display_name": "Python [Root]",
   "language": "python",
   "name": "Python [Root]"
  },
  "language_info": {
   "codemirror_mode": {
    "name": "ipython",
    "version": 2
   },
   "file_extension": ".py",
   "mimetype": "text/x-python",
   "name": "python",
   "nbconvert_exporter": "python",
   "pygments_lexer": "ipython2",
   "version": "2.7.12"
  }
 },
 "nbformat": 4,
 "nbformat_minor": 0
}
