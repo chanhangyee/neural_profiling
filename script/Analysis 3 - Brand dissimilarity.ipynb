{
 "cells": [
  {
   "cell_type": "code",
   "execution_count": 1,
   "metadata": {
    "collapsed": false
   },
   "outputs": [],
   "source": [
    "import os, sys, time\n",
    "import numpy as np\n",
    "import scipy as sp\n",
    "import pandas as pd\n",
    "import seaborn as sns\n",
    "import mvpa2.suite as mvpa2\n",
    "import itertools\n",
    "\n",
    "from collections import Counter\n",
    "\n",
    "import matplotlib.pylab as plt\n",
    "%matplotlib inline\n",
    "\n",
    "from scipy.spatial.distance import pdist,squareform\n",
    "\n",
    "TR = 2.3\n",
    "\n",
    "brands = np.array(['abercrombie-fitch','adobe','apple','axe','beats',\n",
    "          'campina','dell','disney','durex','heineken','kelloggs',\n",
    "          'microsoft','pampers','redbull'])\n",
    "\n",
    "cat_names = ['party','work','sex','family']\n",
    "\n",
    "sns.reset_orig()\n",
    "plt.rc('font', family='Arial', size=16)\n",
    "plt.rc('legend', fontsize='medium')\n",
    "plt.rc('savefig', dpi=300)"
   ]
  },
  {
   "cell_type": "code",
   "execution_count": 2,
   "metadata": {
    "collapsed": true
   },
   "outputs": [],
   "source": [
    "def zscore(data):\n",
    "    return (data-np.nanmean(data))/np.nanstd(data)\n",
    "def mean_corr(data):\n",
    "    return np.tanh(np.mean(np.arctanh(data)))"
   ]
  },
  {
   "cell_type": "code",
   "execution_count": 5,
   "metadata": {
    "collapsed": true
   },
   "outputs": [],
   "source": [
    "def draw_rdm_pub(rdm,output=None):\n",
    "    brands = np.array(['abercrombie-fitch','adobe','apple',\n",
    "                       'axe','beats',\n",
    "              'campina','dell','disney','durex','heineken','kelloggs',\n",
    "              'microsoft','pampers','redbull'])\n",
    "\n",
    "    new_order = ['abercrombie-fitch','axe','durex',\n",
    "                 'heineken','redbull',             \n",
    "                 'beats','apple',\n",
    "                 'adobe',\n",
    "                 'dell','microsoft',\n",
    "                 'campina','disney','kelloggs','pampers']\n",
    "\n",
    "    brand_names = ['A&F','Axe','Durex',\n",
    "                 'Heineken','Red Bull',             \n",
    "                 'Beats','Apple',\n",
    "                   'Adobe',\n",
    "                 'Dell','Microsoft',\n",
    "                 'Campina','Disney','Kellogg\\'s','Pampers']\n",
    "\n",
    "    brand_name_y = [b+'\\n' for b in brand_names]\n",
    "    brand_name_x = ['\\n'+b for b in brand_names]\n",
    "    \n",
    "    minrdm = np.min(rdm)\n",
    "    maxrdm = np.max(rdm)\n",
    "    rdm_avg = (rdm - minrdm) / (maxrdm - minrdm)\n",
    "    rdm_square = squareform(rdm_avg) \n",
    "\n",
    "    new_rdm = np.zeros(rdm_square.shape)\n",
    "\n",
    "    for i in range(14):\n",
    "        for j in range(i,14):\n",
    "            ib = new_order[i].lower()\n",
    "            jb = new_order[j].lower()\n",
    "            new_rdm[i,j] = rdm_square[np.where(brands == ib)[0],np.where(brands == jb)[0]]\n",
    "            new_rdm[j,i] = new_rdm[i,j]\n",
    "\n",
    "    hfont = {'fontname':'Arial'}\n",
    "    plt.rc('font', family='Arial',size=8)\n",
    "\n",
    "    plt.figure(figsize=(2,2))\n",
    "    fig = plt.gcf()\n",
    "    ax = plt.gca()\n",
    "    ax.axis('off')\n",
    "\n",
    "    # Plot\n",
    "    #axi = fig.add_axes([0.15, 0.1, 0.7, 0.7])\n",
    "    axi = fig.add_axes([0.15, 0.1, 0.9, 0.9])\n",
    "    im = axi.imshow(new_rdm, interpolation=\"nearest\", \n",
    "                            aspect='equal', extent=(0, 14, 0, 14),vmin=0,vmax=1)\n",
    "    axi.set_xticks(range(14))\n",
    "    axi.set_yticks(range(14)[::-1])\n",
    "    axi.set_xticklabels(brand_name_x,rotation=90)\n",
    "    axi.set_yticklabels(brand_name_y)\n",
    "    \n",
    "    axi.yaxis.set_tick_params(size=0)\n",
    "    axi.xaxis.set_tick_params(size=0)\n",
    "    #axcb = fig.add_axes([0.9, 0.1, 0.02, 0.7])\n",
    "    #cb = plt.colorbar(im, cax=axcb, format='%d',ticks=[0, 1])\n",
    "    \n",
    "    if output != None:\n",
    "        plt.savefig(output,format='pdf',bbox_inches='tight')\n",
    "    \n",
    "    plt.show()        "
   ]
  },
  {
   "cell_type": "code",
   "execution_count": 21,
   "metadata": {
    "collapsed": true
   },
   "outputs": [],
   "source": [
    "def plot_tree_pub(data,sort=True,output=None):\n",
    "    if sort==True:\n",
    "        data.sort()\n",
    "    \n",
    "    plt.rc('font', family='Arial', size=8)    \n",
    "    ax, fig = plt.subplots(figsize=(3.3,2))\n",
    "    \n",
    "    fig.spines['top'].set_visible(False)\n",
    "    fig.spines['right'].set_visible(False)\n",
    "    fig.spines['bottom'].set_visible(False)\n",
    "    fig.spines['left'].set_visible(False)\n",
    "\n",
    "    fig.xaxis.set_ticks_position('none') \n",
    "    fig.yaxis.set_ticks_position('none') \n",
    "\n",
    "    for i in range(len(data)):\n",
    "        fig.plot([i+1,i+1],[0,data[i]],'k-',lw=0.5)\n",
    "    fig.plot(range(1,len(data)+1),data,'ko',markersize=3)\n",
    "    fig.set_xlim([0.5,len(data)+0.5])\n",
    "    fig.set_xlabel('Subject',size=8)\n",
    "    \n",
    "    fig.set_yticks([-0.1,0,0.1,0.2,0.3])\n",
    "    fig.set_ylim([-0.15,0.35])\n",
    "    fig.plot([0.5,len(data)+0.5],[0,0],'k-',lw=0.5)\n",
    "\n",
    "    if output != None:\n",
    "        plt.savefig(output,format='pdf',bbox_inches='tight')\n",
    "    \n",
    "    plt.show()"
   ]
  },
  {
   "cell_type": "code",
   "execution_count": 6,
   "metadata": {
    "collapsed": false
   },
   "outputs": [],
   "source": [
    "cobrand_judgment = np.loadtxt('../survey/post/cobrand_judgment.csv',delimiter=',')\n",
    "cobrand_score = np.sum(cobrand_judgment,axis=1)\n",
    "cobrand_score = cobrand_score.reshape(((len(cobrand_score)/91),91))\n",
    "\n",
    "cobrand_score[cobrand_score == -3] = np.nan\n",
    "cobrand_rdm_avg = np.nanmean(cobrand_score,axis=0) / 3"
   ]
  },
  {
   "cell_type": "code",
   "execution_count": 7,
   "metadata": {
    "collapsed": false
   },
   "outputs": [],
   "source": [
    "method = 'normalized_common'\n",
    "r = 'picture_thresh2'\n",
    "\n",
    "file_path = '../output/'+method+'/'+r.replace(\"picture\",\"brand\")\n",
    "\n",
    "subj_brand_ds = {}\n",
    "allsubjs = np.array(range(4,42))\n",
    "\n",
    "for subj in allsubjs:\n",
    "    subj_brand_ds[subj] = mvpa2.Dataset.from_hdf5(file_path+'/S'+str(subj)+'.h5py')"
   ]
  },
  {
   "cell_type": "code",
   "execution_count": 8,
   "metadata": {
    "collapsed": false
   },
   "outputs": [
    {
     "name": "stdout",
     "output_type": "stream",
     "text": [
      "0.100405473642 Ttest_1sampResult(statistic=5.9162125061778177, pvalue=8.9929291769251449e-07) SpearmanrResult(correlation=-0.3100493709189362, pvalue=0.0027818444496316972)\n"
     ]
    }
   ],
   "source": [
    "TR_type = 't012'\n",
    "tp = 6\n",
    "\n",
    "subj_behave = []\n",
    "subj_neural = []\n",
    "\n",
    "rdm_dist = []\n",
    "\n",
    "subjs = allsubjs[(allsubjs != 8)]\n",
    "\n",
    "for subj in subjs:\n",
    "\n",
    "    brand_ds = subj_brand_ds[subj]\n",
    "\n",
    "    rdm_file =  '../mds/S'+str(subj)+'_mds.mat'\n",
    "    behave_rdm = np.ravel(sp.io.loadmat(rdm_file)['estimate_dissimMat_ltv'])\n",
    "\n",
    "    neural_rdm = []\n",
    "    for b in range(14):\n",
    "        neural_rdm.append(np.mean(np.array(brand_ds[(brand_ds.sa.brand == brands[b]) & \\\n",
    "                                 (brand_ds.sa.timepoint >= tp) & \\\n",
    "                                 (brand_ds.sa.timepoint < tp+TR)]\\\n",
    "                                .sa[TR_type+'_rsa']),axis=0))\n",
    "\n",
    "    neural_rdm = pdist(np.array(neural_rdm),metric='correlation')\n",
    "\n",
    "    #rdm_dist.append(sp.stats.pearsonr(neural_rdm,behave_rdm)[0])\n",
    "    rdm_dist.append(sp.stats.spearmanr(neural_rdm,behave_rdm)[0])\n",
    "\n",
    "    subj_behave.append(behave_rdm)\n",
    "    subj_neural.append(neural_rdm)\n",
    "\n",
    "behave_rdm_avg = np.mean(np.array(subj_behave),axis=0)\n",
    "neural_rdm_avg = np.mean(np.array(subj_neural),axis=0)\n",
    "\n",
    "#np.savetxt('brand_'+method+'_'+r+'_rdm.csv',np.vstack([behave_rdm_avg,neural_rdm_avg,cobrand_rdm_avg]).T,delimiter=',',fmt='%f',header='behave,neural,cobrand',comments='')\n",
    "\n",
    "print mean_corr(rdm_dist), sp.stats.ttest_1samp(np.arctanh(rdm_dist),0), sp.stats.spearmanr(neural_rdm_avg,cobrand_rdm_avg)"
   ]
  },
  {
   "cell_type": "code",
   "execution_count": 31,
   "metadata": {
    "collapsed": false
   },
   "outputs": [
    {
     "data": {
      "image/png": "[encoded data removed]",
      "text/plain": [
       "<matplotlib.figure.Figure at 0x7f6d731d4850>"
      ]
     },
     "metadata": {},
     "output_type": "display_data"
    }
   ],
   "source": [
    "#draw_rdm(neural_rdm_avg,'neural_rdm.pdf')\n",
    "draw_rdm_pub(neural_rdm_avg,'neural_rdm_pub.pdf')"
   ]
  },
  {
   "cell_type": "code",
   "execution_count": 32,
   "metadata": {
    "collapsed": false
   },
   "outputs": [
    {
     "data": {
      "image/png": "[encoded data removed]",
      "text/plain": [
       "<matplotlib.figure.Figure at 0x7f6d404ab310>"
      ]
     },
     "metadata": {},
     "output_type": "display_data"
    }
   ],
   "source": [
    "draw_rdm_pub(cobrand_rdm_avg,'cobrand_rdm_outofsample_pub.pdf')"
   ]
  },
  {
   "cell_type": "code",
   "execution_count": 22,
   "metadata": {
    "collapsed": false
   },
   "outputs": [
    {
     "data": {
      "image/png": "[encoded data removed]",
      "text/plain": [
       "<matplotlib.figure.Figure at 0x7f6d403bcdd0>"
      ]
     },
     "metadata": {},
     "output_type": "display_data"
    }
   ],
   "source": [
    "#plot_tree(rdm_dist,True,'rdm_dist.pdf')\n",
    "plot_tree_pub(rdm_dist,True,'rdm_dist_pub.pdf')"
   ]
  }
 ],
 "metadata": {
  "kernelspec": {
   "display_name": "Python [Root]",
   "language": "python",
   "name": "Python [Root]"
  },
  "language_info": {
   "codemirror_mode": {
    "name": "ipython",
    "version": 2
   },
   "file_extension": ".py",
   "mimetype": "text/x-python",
   "name": "python",
   "nbconvert_exporter": "python",
   "pygments_lexer": "ipython2",
   "version": "2.7.12"
  }
 },
 "nbformat": 4,
 "nbformat_minor": 0
}
