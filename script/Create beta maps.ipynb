{
 "cells": [
  {
   "cell_type": "code",
   "execution_count": 33,
   "metadata": {
    "collapsed": false
   },
   "outputs": [],
   "source": [
    "import os, sys, time, glob, shutil\n",
    "\n",
    "import nipype\n",
    "import nipype.interfaces.io as nio           # Data i/o\n",
    "import nipype.interfaces.spm as spm          # spm\n",
    "import nipype.interfaces.fsl as fsl    # fsl\n",
    "import nipype.interfaces.utility as util     # utility\n",
    "import nipype.pipeline.engine as pe          # pypeline engine\n",
    "import nipype.algorithms.rapidart as ra      # artifact detection\n",
    "import nipype.algorithms.modelgen as model   # model specification\n",
    "import nipype.interfaces.nipy.preprocess as preprocess\n",
    "\n",
    "sys.path.append('/data/hangyee')\n",
    "import nipype_init\n",
    "\n",
    "nipype_init.init()"
   ]
  },
  {
   "cell_type": "code",
   "execution_count": 22,
   "metadata": {
    "collapsed": true
   },
   "outputs": [
    {
     "name": "stdout",
     "output_type": "stream",
     "text": [
      "../nifti/native/picture/S4_picture_native.nii.gz\n",
      "../nifti/native/picture/S5_picture_native.nii.gz\n",
      "../nifti/native/picture/S6_picture_native.nii.gz\n",
      "../nifti/native/picture/S7_picture_native.nii.gz\n",
      "../nifti/native/picture/S8_picture_native.nii.gz\n",
      "../nifti/native/picture/S9_picture_native.nii.gz\n",
      "../nifti/native/picture/S10_picture_native.nii.gz\n",
      "../nifti/native/picture/S11_picture_native.nii.gz\n",
      "../nifti/native/picture/S12_picture_native.nii.gz\n",
      "../nifti/native/picture/S13_picture_native.nii.gz\n",
      "../nifti/native/picture/S14_picture_native.nii.gz\n",
      "../nifti/native/picture/S15_picture_native.nii.gz\n",
      "../nifti/native/picture/S16_picture_native.nii.gz\n",
      "../nifti/native/picture/S17_picture_native.nii.gz\n",
      "../nifti/native/picture/S18_picture_native.nii.gz\n",
      "../nifti/native/picture/S19_picture_native.nii.gz\n",
      "../nifti/native/picture/S20_picture_native.nii.gz\n",
      "../nifti/native/picture/S22_picture_native.nii.gz\n",
      "../nifti/native/picture/S23_picture_native.nii.gz\n",
      "../nifti/native/picture/S24_picture_native.nii.gz\n",
      "../nifti/native/picture/S26_picture_native.nii.gz\n",
      "../nifti/native/picture/S27_picture_native.nii.gz\n",
      "../nifti/native/picture/S28_picture_native.nii.gz\n",
      "../nifti/native/picture/S29_picture_native.nii.gz\n",
      "../nifti/native/picture/S30_picture_native.nii.gz\n",
      "../nifti/native/picture/S31_picture_native.nii.gz\n",
      "../nifti/native/picture/S32_picture_native.nii.gz\n",
      "../nifti/native/picture/S33_picture_native.nii.gz\n",
      "../nifti/native/picture/S34_picture_native.nii.gz\n",
      "../nifti/native/picture/S35_picture_native.nii.gz\n",
      "../nifti/native/picture/S36_picture_native.nii.gz\n",
      "../nifti/native/picture/S37_picture_native.nii.gz\n",
      "../nifti/native/picture/S38_picture_native.nii.gz\n",
      "../nifti/native/picture/S39_picture_native.nii.gz\n",
      "../nifti/native/picture/S40_picture_native.nii.gz\n",
      "../nifti/native/picture/S41_picture_native.nii.gz\n",
      "../nifti/native/picture/S21_picture_native.nii.gz\n",
      "../nifti/native/picture/S25_picture_native.nii.gz\n",
      "../nifti/native/brand/S4_brand_native.nii.gz\n",
      "../nifti/native/brand/S5_brand_native.nii.gz\n",
      "../nifti/native/brand/S6_brand_native.nii.gz\n",
      "../nifti/native/brand/S7_brand_native.nii.gz\n",
      "../nifti/native/brand/S8_brand_native.nii.gz\n",
      "../nifti/native/brand/S9_brand_native.nii.gz\n",
      "../nifti/native/brand/S10_brand_native.nii.gz\n",
      "../nifti/native/brand/S11_brand_native.nii.gz\n",
      "../nifti/native/brand/S12_brand_native.nii.gz\n",
      "../nifti/native/brand/S13_brand_native.nii.gz\n",
      "../nifti/native/brand/S14_brand_native.nii.gz\n",
      "../nifti/native/brand/S15_brand_native.nii.gz\n",
      "../nifti/native/brand/S16_brand_native.nii.gz\n",
      "../nifti/native/brand/S17_brand_native.nii.gz\n",
      "../nifti/native/brand/S18_brand_native.nii.gz\n",
      "../nifti/native/brand/S19_brand_native.nii.gz\n",
      "../nifti/native/brand/S20_brand_native.nii.gz\n",
      "../nifti/native/brand/S22_brand_native.nii.gz\n",
      "../nifti/native/brand/S23_brand_native.nii.gz\n",
      "../nifti/native/brand/S24_brand_native.nii.gz\n",
      "../nifti/native/brand/S25_brand_native.nii.gz\n",
      "../nifti/native/brand/S26_brand_native.nii.gz\n",
      "../nifti/native/brand/S27_brand_native.nii.gz\n",
      "../nifti/native/brand/S28_brand_native.nii.gz\n",
      "../nifti/native/brand/S29_brand_native.nii.gz\n",
      "../nifti/native/brand/S30_brand_native.nii.gz\n",
      "../nifti/native/brand/S31_brand_native.nii.gz\n",
      "../nifti/native/brand/S32_brand_native.nii.gz\n",
      "../nifti/native/brand/S33_brand_native.nii.gz\n",
      "../nifti/native/brand/S34_brand_native.nii.gz\n",
      "../nifti/native/brand/S35_brand_native.nii.gz\n",
      "../nifti/native/brand/S36_brand_native.nii.gz\n",
      "../nifti/native/brand/S37_brand_native.nii.gz\n",
      "../nifti/native/brand/S38_brand_native.nii.gz\n",
      "../nifti/native/brand/S39_brand_native.nii.gz\n",
      "../nifti/native/brand/S40_brand_native.nii.gz\n",
      "../nifti/native/brand/S41_brand_native.nii.gz\n",
      "../nifti/native/brand/S21_brand_native.nii.gz\n"
     ]
    }
   ],
   "source": [
    "import glob\n",
    "\n",
    "for f in glob.glob('../nifti/native/picture/*.nii.gz'):\n",
    "    print f\n",
    "    !{'gunzip '+f}\n",
    "for f in glob.glob('../nifti/native/brand/*.nii.gz'):\n",
    "    print f\n",
    "    !{'gunzip '+f}    "
   ]
  },
  {
   "cell_type": "code",
   "execution_count": 55,
   "metadata": {
    "collapsed": false
   },
   "outputs": [],
   "source": [
    "def get_picture_category_info(subj,method):\n",
    "    from nipype.interfaces.base import Bunch\n",
    "    import scipy.io as spio \n",
    "    \n",
    "    subjectinfo = []\n",
    "\n",
    "    log_file = '../log/S'+str(subj)+'_picture.csv'\n",
    "    nuisance_file = '../nuisance/'+method+'/S'+str(subj)+'_picture_nuisance.txt'\n",
    "    brightness_file = '../nuisance/'+method+'/S'+str(subj)+'_picture_brightness.txt'\n",
    "    contrast_file = '../nuisance/'+method+'/S'+str(subj)+'_picture_contrast.txt'\n",
    "\n",
    "    with open(nuisance_file) as f:\n",
    "        nuisance = f.readlines()\n",
    "    reg1 = []\n",
    "    reg2 = []\n",
    "    for nuisance_line in nuisance:\n",
    "        a = nuisance_line.split(' ')\n",
    "        if len(a) == 2:\n",
    "            reg1.append(float(a[0]))\n",
    "            reg2.append(float(a[1]))\n",
    "            \n",
    "    with open(brightness_file) as f:\n",
    "        brightness = f.readlines()\n",
    "    brightness_reg = [float(b) for b in brightness]\n",
    "\n",
    "    with open(contrast_file) as f:\n",
    "        contrast = f.readlines()\n",
    "    contrast_reg = [float(c) for c in contrast]\n",
    "\n",
    "    log = np.recfromcsv(log_file,delimiter=',')\n",
    "    \n",
    "    #condition_names = np.hstack([np.unique(log.category),['brightness','contrast']])\n",
    "    condition_names = np.unique(log.category)\n",
    "    durations = [[] for i in range(len(condition_names))]\n",
    "    onsets = [[] for i in range(len(condition_names))]\n",
    "    \n",
    "    for log_line in log:\n",
    "        idx = np.ravel(np.where(condition_names == log_line.category))[0]\n",
    "        onsets[idx].append(log_line.onset)\n",
    "        durations[idx].append(float(7))\n",
    "        \n",
    "        #onsets[-2].append(log_line.onset)\n",
    "        #onsets[-1].append(log_line.onset)\n",
    "        \n",
    "        #durations[-2].append(float(7))\n",
    "        #durations[-1].append(float(7))\n",
    "    \n",
    "    #pmod = [None for i in range(len(condition_names))] + [Bunch(name=['brightness'], param=[log.brightness.tolist()],\n",
    "    #                                 poly=[1]), Bunch(name=['contrast'], param=[log.contrast.tolist()],\n",
    "    #                                 poly=[1])]\n",
    "    \n",
    "    subjectinfo.append(Bunch(conditions=['a' ,'b']condition_names.tolist(),\n",
    "                                 onsets=[[1,3,4],[3,4,5]]onsets,\n",
    "                                 durations=durations,\n",
    "                                 #pmod=pmod,\n",
    "                                 regressor_names=['R1','R2','R3','R4'],\n",
    "                                 regressors=(list(reg1),list(reg2),brightness_reg,contrast_reg)))\n",
    "        \n",
    "    return subjectinfo"
   ]
  },
  {
   "cell_type": "code",
   "execution_count": 39,
   "metadata": {
    "collapsed": true
   },
   "outputs": [],
   "source": [
    "for subj in range(4,42):\n",
    "    os.mkdir('../spm/normalized/brand/S'+str(subj))\n",
    "    #os.mkdir('../spm/normalized/picture/S'+str(subj)+'/by_category')"
   ]
  },
  {
   "cell_type": "code",
   "execution_count": 116,
   "metadata": {
    "collapsed": false
   },
   "outputs": [
    {
     "name": "stdout",
     "output_type": "stream",
     "text": [
      "S4 Specify model - Design - Estimate - Contrast - 131.905188\n",
      "S5 Specify model - Design - Estimate - Contrast - 151.655966\n",
      "S6 Specify model - Design - Estimate - Contrast - 133.336988\n",
      "S7 Specify model - Design - Estimate - Contrast - 140.991142\n",
      "S8 Specify model - Design - Estimate - Contrast - 133.625154\n",
      "S9 Specify model - Design - Estimate - Contrast - 143.830131\n",
      "S10 Specify model - Design - Estimate - Contrast - 133.765783\n",
      "S11 Specify model - Design - Estimate - Contrast - 135.517913\n",
      "S12 Specify model - Design - Estimate - Contrast - 136.292012\n",
      "S13 Specify model - Design - Estimate - Contrast - 136.523748\n",
      "S14 Specify model - Design - Estimate - Contrast - 137.989338\n",
      "S15 Specify model - Design - Estimate - Contrast - 135.548830\n",
      "S16 Specify model - Design - Estimate - Contrast - 140.941028\n",
      "S17 Specify model - Design - Estimate - Contrast - 142.204413\n",
      "S18 Specify model - Design - Estimate - Contrast - 164.612134\n",
      "S19 Specify model - Design - Estimate - Contrast - 138.822848\n",
      "S20 Specify model - Design - Estimate - Contrast - 134.004221\n",
      "S21 Specify model - Design - Estimate - Contrast - 130.062848\n",
      "S22 Specify model - Design - Estimate - Contrast - 130.431863\n",
      "S23 Specify model - Design - Estimate - Contrast - 135.189357\n",
      "S24 Specify model - Design - Estimate - Contrast - 129.085628\n",
      "S25 Specify model - Design - Estimate - Contrast - 134.239358\n",
      "S26 Specify model - Design - Estimate - Contrast - 129.566255\n",
      "S27 Specify model - Design - Estimate - Contrast - 131.568377\n",
      "S28 Specify model - Design - Estimate - Contrast - 130.645084\n",
      "S29 Specify model - Design - Estimate - Contrast - 165.269872\n",
      "S30 Specify model - Design - Estimate - Contrast - 133.522447\n",
      "S31 Specify model - Design - Estimate - Contrast - 140.830707\n",
      "S32 Specify model - Design - Estimate - Contrast - 247.978461\n",
      "S33 Specify model - Design - Estimate - Contrast - 138.786094\n",
      "S34 Specify model - Design - Estimate - Contrast - 198.805762\n",
      "S35 Specify model - Design - Estimate - Contrast - 141.590578\n",
      "S36 Specify model - Design - Estimate - Contrast - 134.596315\n",
      "S37 Specify model - Design - Estimate - Contrast - 139.783041\n",
      "S38 Specify model - Design - Estimate - Contrast - 136.613402\n",
      "S39 Specify model - Design - Estimate - Contrast - 152.125954\n",
      "S40 Specify model - Design - Estimate - Contrast - 133.777561\n",
      "S41 Specify model - Design - Estimate - Contrast - 139.239412\n"
     ]
    }
   ],
   "source": [
    "import glob\n",
    "TR = 2.3\n",
    "\n",
    "for subj in range(4,42):\n",
    "    method = 'normalized'\n",
    "\n",
    "    log_file = '../log/S'+str(subj)+'_picture.csv'\n",
    "    log = np.recfromcsv(log_file,delimiter=',')\n",
    "    nvols = len(log)\n",
    "\n",
    "    starttime = time.time()\n",
    "\n",
    "    print \"S%d\"%subj,\n",
    "\n",
    "    for f in glob.glob('../spm/normalized/picture/S'+str(subj)+'/by_category/*.*'):\n",
    "        os.remove(f)\n",
    "\n",
    "    print \"Specify model\",\n",
    "    modelspec = model.SpecifySPMModel()\n",
    "\n",
    "    modelspec.inputs.input_units='secs'\n",
    "    modelspec.inputs.output_units='secs'\n",
    "    modelspec.inputs.time_repetition=TR\n",
    "    modelspec.inputs.high_pass_filter_cutoff=128\n",
    "    modelspec.inputs.functional_runs = ['../nifti/'+method+'/picture/S'+str(subj)+'_picture_'+method+'.nii']\n",
    "    modelspec.inputs.subject_info = get_picture_category_info(subj,method)\n",
    "\n",
    "    out = modelspec.run()\n",
    "\n",
    "    print \"- Design\",\n",
    "    level1design = spm.Level1Design()\n",
    "    level1design.inputs.timing_units = 'secs'\n",
    "    level1design.inputs.interscan_interval = TR\n",
    "    level1design.inputs.bases = {'hrf':{'derivs': [0,0]}}\n",
    "    level1design.inputs.model_serial_correlations = 'AR(1)'\n",
    "    level1design.inputs.session_info = out.outputs.session_info\n",
    "\n",
    "    out = level1design.run()\n",
    "\n",
    "    shutil.move(out.outputs.spm_mat_file,'../spm/normalized/picture/S'+str(subj)+'/by_category')\n",
    "\n",
    "    print \"- Estimate\",\n",
    "    level1estimate = spm.EstimateModel()\n",
    "    level1estimate.inputs.estimation_method = {'Classical': 1}\n",
    "    level1estimate.inputs.spm_mat_file = '../spm/normalized/picture/S'+str(subj)+'/by_category/SPM.mat'\n",
    "\n",
    "    out = level1estimate.run()\n",
    "\n",
    "    print \"- Contrast\",\n",
    "    level1contrast = spm.EstimateContrast()\n",
    "    level1contrast.inputs.spm_mat_file = out.outputs.spm_mat_file\n",
    "    level1contrast.inputs.beta_images = out.outputs.beta_images\n",
    "    level1contrast.inputs.residual_image = out.outputs.residual_image\n",
    "    cont1 = ('family>party','T', ['family','party'],[1,-1])\n",
    "    cont2 = ('family>sex','T', ['family','sex'],[1,-1])\n",
    "    cont3 = ('family>work','T', ['family','work'],[1,-1])\n",
    "    cont4 = ('party>sex','T', ['party','sex'],[1,-1])\n",
    "    cont5 = ('party>work','T', ['party','work'],[1,-1])\n",
    "    cont6 = ('sex>work','T', ['sex','work'],[1,-1])\n",
    "    contrasts = [cont1,cont2,cont3,cont4,cont5,cont6]\n",
    "    level1contrast.inputs.contrasts = contrasts\n",
    "\n",
    "    out = level1contrast.run()\n",
    "\n",
    "    print \"- %f\"%(time.time()-starttime)"
   ]
  },
  {
   "cell_type": "code",
   "execution_count": 48,
   "metadata": {
    "collapsed": false
   },
   "outputs": [
    {
     "data": {
      "image/png": "[encoded data removed]",
      "text/plain": [
       "<matplotlib.figure.Figure at 0x7f3b1cd67cd0>"
      ]
     },
     "metadata": {},
     "output_type": "display_data"
    }
   ],
   "source": [
    "import numpy as np\n",
    "\n",
    "%matplotlib inline\n",
    "import matplotlib.pylab as plt\n",
    "import scipy.io as spio\n",
    "subj = 4\n",
    "a = spio.loadmat('../spm/normalized/brand/S4/T4O0/SPM.mat')\n",
    "ff = open('../nuisance/S4_brand_brightness.txt').readlines()\n",
    "b = [float(f) for f in ff]\n",
    "ff = open('../nuisance/S4_brand_contrast.txt').readlines()\n",
    "c = [float(f) for f in ff]\n",
    "\n",
    "def zscore(x):\n",
    "    return (x-np.mean(x))/np.std(x)\n",
    "\n",
    "reg = a['SPM']['xX'][0][0]['X'][0][0]\n",
    "\n",
    "#plt.plot(reg[0:100,0])\n",
    "#plt.plot(reg[0:100,1])\n",
    "#plt.plot(reg[0:100,2])\n",
    "#plt.plot(reg[0:100,3])\n",
    "#plt.plot(reg[0:100,-3]+4)\n",
    "#plt.plot(reg[0:100,-2])\n",
    "#plt.plot(zscore(reg[0:100,-3]))\n",
    "#plt.plot(b[0:100])\n",
    "#plt.plot(c[0:100])\n",
    "\n",
    "#plt.show()"
   ]
  },
  {
   "cell_type": "code",
   "execution_count": 3,
   "metadata": {
    "collapsed": false
   },
   "outputs": [
    {
     "name": "stdout",
     "output_type": "stream",
     "text": [
      "family-party - 50.592543\n",
      "family-sex - 48.996974\n",
      "family-work - 54.470796\n",
      "party-sex - 55.915926\n",
      "party-work - 65.047138\n",
      "sex-work - 225.596510\n"
     ]
    }
   ],
   "source": [
    "con_dir = ['family-party','family-sex','family-work','party-sex','party-work','sex-work']\n",
    "\n",
    "for con in range(1,7):\n",
    "    print con_dir[con-1],\n",
    "    \n",
    "    if os.path.exists('SPM.mat'):\n",
    "        os.remove('SPM.mat')\n",
    "    for f in glob.glob('../spm/normalized/picture/category/'+con_dir[con-1]+'/*.*'):\n",
    "        os.remove(f)\n",
    "    \n",
    "    starttime = time.time()    \n",
    "    \n",
    "    onesamplettestdes = spm.OneSampleTTestDesign()\n",
    "    onesamplettestdes.inputs.in_files = glob.glob('../spm/normalized/picture/S*/by_category/con_%04d.nii'%con)\n",
    "\n",
    "    out = onesamplettestdes.run()\n",
    "\n",
    "    shutil.move(out.outputs.spm_mat_file,'../spm/normalized/picture/category/'+con_dir[con-1])\n",
    "\n",
    "    level2estimate = spm.EstimateModel()\n",
    "    level2estimate.inputs.estimation_method = {'Classical': 1}\n",
    "    level2estimate.inputs.spm_mat_file = '../spm/normalized/picture/category/'+con_dir[con-1]+'/SPM.mat'\n",
    "\n",
    "    out = level2estimate.run()\n",
    "    \n",
    "    level2contrast = spm.EstimateContrast()\n",
    "    level2contrast.inputs.spm_mat_file = out.outputs.spm_mat_file\n",
    "    level2contrast.inputs.beta_images = out.outputs.beta_images\n",
    "    level2contrast.inputs.residual_image = out.outputs.residual_image\n",
    "    \n",
    "    cont1 = ('pos','T', ['mean'],[1])\n",
    "    cont2 = ('neg','T', ['mean'],[-1])\n",
    "    level2contrast.inputs.contrasts = [cont1,cont2]\n",
    "    level2contrast.inputs.group_contrast = True\n",
    "    \n",
    "    out = level2contrast.run()\n",
    "    \n",
    "    print \"- %f\"%(time.time()-starttime)"
   ]
  },
  {
   "cell_type": "code",
   "execution_count": 150,
   "metadata": {
    "collapsed": false
   },
   "outputs": [
    {
     "name": "stdout",
     "output_type": "stream",
     "text": [
      "family-party family-sex family-work party-sex party-work sex-work\n"
     ]
    }
   ],
   "source": [
    "con_dir = ['family-party','family-sex','family-work','party-sex','party-work','sex-work']\n",
    "\n",
    "for con in range(1,7):\n",
    "    print con_dir[con-1],\n",
    "\n",
    "    thresh = spm.Threshold()\n",
    "    thresh.inputs.spm_mat_file = '../spm/normalized/picture/category/'+con_dir[con-1]+'/SPM.mat'\n",
    "    thresh.inputs.stat_image = '../spm/normalized/picture/category/'+con_dir[con-1]+'/spmT_0001.nii'\n",
    "    thresh.inputs.contrast_index = 1\n",
    "    thresh.inputs.extent_fdr_p_threshold = 0.05\n",
    "    out = thresh.run()\n",
    "    shutil.move(out.outputs.thresholded_map,'../spm/normalized/picture/category/'+con_dir[con-1])\n",
    "\n",
    "    thresh.inputs.spm_mat_file = '../spm/normalized/picture/category/'+con_dir[con-1]+'/SPM.mat'\n",
    "    thresh.inputs.stat_image = '../spm/normalized/picture/category/'+con_dir[con-1]+'/spmT_0002.nii'\n",
    "    thresh.inputs.contrast_index = 1\n",
    "    thresh.inputs.extent_fdr_p_threshold = 0.05\n",
    "    out = thresh.run()\n",
    "    shutil.move(out.outputs.thresholded_map,'../spm/normalized/picture/category/'+con_dir[con-1])"
   ]
  },
  {
   "cell_type": "code",
   "execution_count": 151,
   "metadata": {
    "collapsed": false
   },
   "outputs": [],
   "source": [
    "import mvpa2.suite as mvpa2\n",
    "roi_files = glob.glob('../spm/normalized/picture/category/*/spmT*thr.nii')\n",
    "ds = mvpa2.fmri_dataset(roi_files)\n",
    "\n",
    "roi_mask = np.nansum(ds.samples,axis=0)\n",
    "roi_mask_file = mvpa2.map2nifti(ds,data=roi_mask)\n",
    "roi_mask_file.to_filename('../roi/normalized/common_mask/spm/picture2.nii')"
   ]
  },
  {
   "cell_type": "code",
   "execution_count": 152,
   "metadata": {
    "collapsed": false
   },
   "outputs": [
    {
     "data": {
      "text/plain": [
       "2893"
      ]
     },
     "execution_count": 152,
     "metadata": {},
     "output_type": "execute_result"
    }
   ],
   "source": [
    "np.sum(roi_mask > 0)"
   ]
  }
 ],
 "metadata": {
  "kernelspec": {
   "display_name": "Python [Root]",
   "language": "python",
   "name": "Python [Root]"
  },
  "language_info": {
   "codemirror_mode": {
    "name": "ipython",
    "version": 2
   },
   "file_extension": ".py",
   "mimetype": "text/x-python",
   "name": "python",
   "nbconvert_exporter": "python",
   "pygments_lexer": "ipython2",
   "version": "2.7.12"
  }
 },
 "nbformat": 4,
 "nbformat_minor": 0
}
