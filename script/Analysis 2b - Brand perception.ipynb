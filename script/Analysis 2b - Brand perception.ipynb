{
 "cells": [
  {
   "cell_type": "code",
   "execution_count": 1,
   "metadata": {
    "collapsed": false
   },
   "outputs": [
    {
     "name": "stderr",
     "output_type": "stream",
     "text": [
      "Loading required package: lme4\n",
      "Loading required package: Matrix\n",
      "Loading required package: reshape2\n",
      "Loading required package: lsmeans\n",
      "Loading required package: estimability\n",
      "************\n",
      "Welcome to afex. Important changes in the current version:\n",
      "- Functions for ANOVAs have been renamed to: aov_car(), aov_ez(), and aov_4().\n",
      "- ANOVA functions return an object of class 'afex_aov' as default, see: ?aov_car\n",
      "- 'afex_aov' objects can be passed to lsmeans for contrasts and follow-up tests.\n",
      "- Reset previous (faster) behavior via: afex_options(return_aov='nice')\n",
      "- Many more arguments can now be set globally via options, see: afex_options()\n",
      "************\n"
     ]
    }
   ],
   "source": [
    "library(afex)\n",
    "library(MuMIn)\n",
    "#library(mediation)"
   ]
  },
  {
   "cell_type": "code",
   "execution_count": 9,
   "metadata": {
    "collapsed": true
   },
   "outputs": [],
   "source": [
    "s1 <- \"normalized_common\"\n",
    "s2 <- \"picture_thresh2\""
   ]
  },
  {
   "cell_type": "markdown",
   "metadata": {},
   "source": [
    "## Analysis 2"
   ]
  },
  {
   "cell_type": "code",
   "execution_count": 10,
   "metadata": {
    "collapsed": false
   },
   "outputs": [
    {
     "data": {
      "text/plain": [
       "Linear mixed model fit by maximum likelihood  ['lmerMod']\n",
       "Formula: behave ~ neural * theme + (1 | subj)\n",
       "   Data: theme_data\n",
       "      AIC       BIC    logLik  deviance  df.resid \n",
       " 4212.985  4266.197 -2096.492  4192.985      1502 \n",
       "Random effects:\n",
       " Groups   Name        Std.Dev.\n",
       " subj     (Intercept) 0.1952  \n",
       " Residual             0.9578  \n",
       "Number of obs: 1512, groups:  subj, 27\n",
       "Fixed Effects:\n",
       "      (Intercept)             neural         themeparty           themesex  \n",
       "         0.261697           0.196342          -0.233757          -0.628070  \n",
       "        themework  neural:themeparty    neural:themesex   neural:themework  \n",
       "        -0.209377          -0.134766          -0.055861          -0.002071  "
      ]
     },
     "metadata": {},
     "output_type": "display_data"
    },
    {
     "name": "stderr",
     "output_type": "stream",
     "text": [
      "Contrasts set to contr.sum for the following variables: theme\n"
     ]
    },
    {
     "name": "stdout",
     "output_type": "stream",
     "text": [
      "Fitting 4 (g)lmer() models:\n",
      "[....]\n",
      "Obtaining 3 p-values:\n",
      "[...]\n"
     ]
    },
    {
     "data": {
      "text/plain": [
       "        Effect         df F.scaling         F p.value\n",
       "1       neural 1, 1501.28      1.00 15.65 ***  <.0001\n",
       "2        theme 3, 1480.57      1.00 22.07 ***  <.0001\n",
       "3 neural:theme 3, 1491.77      1.00      0.67     .57"
      ]
     },
     "metadata": {},
     "output_type": "display_data"
    },
    {
     "data": {
      "text/html": [
       "<dl class=dl-horizontal>\n",
       "\t<dt>R2m</dt>\n",
       "\t\t<dd>0.0461680226984731</dd>\n",
       "\t<dt>R2c</dt>\n",
       "\t\t<dd>0.0842085438675377</dd>\n",
       "</dl>\n"
      ],
      "text/latex": [
       "\\begin{description*}\n",
       "\\item[R2m] 0.0461680226984731\n",
       "\\item[R2c] 0.0842085438675377\n",
       "\\end{description*}\n"
      ],
      "text/markdown": [
       "R2m\n",
       ":   0.0461680226984731R2c\n",
       ":   0.0842085438675377\n",
       "\n"
      ],
      "text/plain": [
       "       R2m        R2c \n",
       "0.04616802 0.08420854 "
      ]
     },
     "metadata": {},
     "output_type": "display_data"
    }
   ],
   "source": [
    "fn <- paste(\"brand\", s1, s2, \"theme.csv\", sep = \"_\")\n",
    "theme_data <- read.csv(fn)\n",
    "theme_data <- theme_data[theme_data$subj != 8,]\n",
    "\n",
    "theme_data$neural <- scale(theme_data$neural)\n",
    "theme_data$behave <- scale(theme_data$behave)\n",
    "\n",
    "lmm.model <- lmer(behave ~ neural*theme + (1 | subj), data = theme_data, REML=FALSE)\n",
    "lmm.model\n",
    "lmm.pval <- mixed(behave ~ neural*theme + (1 | subj), data = theme_data)\n",
    "lmm.pval\n",
    "r.squaredGLMM(lmm.model)"
   ]
  },
  {
   "cell_type": "code",
   "execution_count": 4,
   "metadata": {
    "collapsed": false
   },
   "outputs": [
    {
     "data": {
      "text/plain": [
       "Linear mixed model fit by maximum likelihood  ['lmerMod']\n",
       "Formula: behave ~ neural + (1 | subj)\n",
       "   Data: theme_data1\n",
       "      AIC       BIC    logLik  deviance  df.resid \n",
       "1417.3627 1434.1404 -704.6814 1409.3627       486 \n",
       "Random effects:\n",
       " Groups   Name        Std.Dev.\n",
       " subj     (Intercept) 0.000   \n",
       " Residual             1.019   \n",
       "Number of obs: 490, groups:  subj, 35\n",
       "Fixed Effects:\n",
       "(Intercept)       neural  \n",
       "    0.03922      0.07438  "
      ]
     },
     "metadata": {},
     "output_type": "display_data"
    },
    {
     "name": "stderr",
     "output_type": "stream",
     "text": [
      "Numerical variables NOT centered on 0 (i.e., interpretation of all main effects might be difficult if in interactions): neural\n"
     ]
    },
    {
     "name": "stdout",
     "output_type": "stream",
     "text": [
      "Fitting 2 (g)lmer() models:\n",
      "[..]\n",
      "Obtaining 1 p-values:\n",
      "[.]\n"
     ]
    },
    {
     "data": {
      "text/plain": [
       "  Effect        df F.scaling    F p.value\n",
       "1 neural 1, 482.97      1.00 1.38     .24"
      ]
     },
     "metadata": {},
     "output_type": "display_data"
    },
    {
     "data": {
      "text/html": [
       "<dl class=dl-horizontal>\n",
       "\t<dt>R2m</dt>\n",
       "\t\t<dd>0.00283711554119574</dd>\n",
       "\t<dt>R2c</dt>\n",
       "\t\t<dd>0.00283711554119574</dd>\n",
       "</dl>\n"
      ],
      "text/latex": [
       "\\begin{description*}\n",
       "\\item[R2m] 0.00283711554119574\n",
       "\\item[R2c] 0.00283711554119574\n",
       "\\end{description*}\n"
      ],
      "text/markdown": [
       "R2m\n",
       ":   0.00283711554119574R2c\n",
       ":   0.00283711554119574\n",
       "\n"
      ],
      "text/plain": [
       "        R2m         R2c \n",
       "0.002837116 0.002837116 "
      ]
     },
     "metadata": {},
     "output_type": "display_data"
    }
   ],
   "source": [
    "theme_data1 <- theme_data[theme_data$theme == 'party',]\n",
    "lmm.model <- lmer(behave ~ neural + (1 | subj), data = theme_data1, REML=FALSE)\n",
    "lmm.model\n",
    "lmm.pval <- mixed(behave ~ neural + (1 | subj), data = theme_data1)\n",
    "lmm.pval\n",
    "r.squaredGLMM(lmm.model)"
   ]
  },
  {
   "cell_type": "code",
   "execution_count": 5,
   "metadata": {
    "collapsed": false
   },
   "outputs": [
    {
     "data": {
      "text/plain": [
       "Linear mixed model fit by maximum likelihood  ['lmerMod']\n",
       "Formula: behave ~ neural + (1 | subj)\n",
       "   Data: theme_data1\n",
       "      AIC       BIC    logLik  deviance  df.resid \n",
       "1340.0633 1356.8409 -666.0316 1332.0633       486 \n",
       "Random effects:\n",
       " Groups   Name        Std.Dev.\n",
       " subj     (Intercept) 0.1013  \n",
       " Residual             0.9370  \n",
       "Number of obs: 490, groups:  subj, 35\n",
       "Fixed Effects:\n",
       "(Intercept)       neural  \n",
       "     0.2530       0.1831  "
      ]
     },
     "metadata": {},
     "output_type": "display_data"
    },
    {
     "name": "stderr",
     "output_type": "stream",
     "text": [
      "Numerical variables NOT centered on 0 (i.e., interpretation of all main effects might be difficult if in interactions): neural\n"
     ]
    },
    {
     "name": "stdout",
     "output_type": "stream",
     "text": [
      "Fitting 2 (g)lmer() models:\n",
      "[..]\n",
      "Obtaining 1 p-values:\n",
      "[.]\n"
     ]
    },
    {
     "data": {
      "text/plain": [
       "  Effect        df F.scaling      F p.value\n",
       "1 neural 1, 482.92      1.00 4.74 *     .03"
      ]
     },
     "metadata": {},
     "output_type": "display_data"
    },
    {
     "data": {
      "text/html": [
       "<dl class=dl-horizontal>\n",
       "\t<dt>R2m</dt>\n",
       "\t\t<dd>0.0096855019231826</dd>\n",
       "\t<dt>R2c</dt>\n",
       "\t\t<dd>0.0211384206556036</dd>\n",
       "</dl>\n"
      ],
      "text/latex": [
       "\\begin{description*}\n",
       "\\item[R2m] 0.0096855019231826\n",
       "\\item[R2c] 0.0211384206556036\n",
       "\\end{description*}\n"
      ],
      "text/markdown": [
       "R2m\n",
       ":   0.0096855019231826R2c\n",
       ":   0.0211384206556036\n",
       "\n"
      ],
      "text/plain": [
       "        R2m         R2c \n",
       "0.009685502 0.021138421 "
      ]
     },
     "metadata": {},
     "output_type": "display_data"
    }
   ],
   "source": [
    "theme_data1 <- theme_data[theme_data$theme == 'family',]\n",
    "lmm.model <- lmer(behave ~ neural + (1 | subj), data = theme_data1, REML=FALSE)\n",
    "lmm.model\n",
    "lmm.pval <- mixed(behave ~ neural + (1 | subj), data = theme_data1)\n",
    "lmm.pval\n",
    "r.squaredGLMM(lmm.model)"
   ]
  },
  {
   "cell_type": "code",
   "execution_count": 6,
   "metadata": {
    "collapsed": false
   },
   "outputs": [
    {
     "data": {
      "text/plain": [
       "Linear mixed model fit by maximum likelihood  ['lmerMod']\n",
       "Formula: behave ~ neural + (1 | subj)\n",
       "   Data: theme_data1\n",
       "     AIC      BIC   logLik deviance df.resid \n",
       "1353.800 1370.578 -672.900 1345.800      486 \n",
       "Random effects:\n",
       " Groups   Name        Std.Dev.\n",
       " subj     (Intercept) 0.1875  \n",
       " Residual             0.9404  \n",
       "Number of obs: 490, groups:  subj, 35\n",
       "Fixed Effects:\n",
       "(Intercept)       neural  \n",
       "    -0.3535       0.1384  "
      ]
     },
     "metadata": {},
     "output_type": "display_data"
    },
    {
     "name": "stderr",
     "output_type": "stream",
     "text": [
      "Numerical variables NOT centered on 0 (i.e., interpretation of all main effects might be difficult if in interactions): neural\n"
     ]
    },
    {
     "name": "stdout",
     "output_type": "stream",
     "text": [
      "Fitting 2 (g)lmer() models:\n",
      "[..]\n",
      "Obtaining 1 p-values:\n",
      "[.]\n"
     ]
    },
    {
     "data": {
      "text/plain": [
       "  Effect        df F.scaling         F p.value\n",
       "1 neural 1, 468.32      1.00 20.26 ***  <.0001"
      ]
     },
     "metadata": {},
     "output_type": "display_data"
    },
    {
     "data": {
      "text/html": [
       "<dl class=dl-horizontal>\n",
       "\t<dt>R2m</dt>\n",
       "\t\t<dd>0.0387830778663923</dd>\n",
       "\t<dt>R2c</dt>\n",
       "\t\t<dd>0.0755341980572683</dd>\n",
       "</dl>\n"
      ],
      "text/latex": [
       "\\begin{description*}\n",
       "\\item[R2m] 0.0387830778663923\n",
       "\\item[R2c] 0.0755341980572683\n",
       "\\end{description*}\n"
      ],
      "text/markdown": [
       "R2m\n",
       ":   0.0387830778663923R2c\n",
       ":   0.0755341980572683\n",
       "\n"
      ],
      "text/plain": [
       "       R2m        R2c \n",
       "0.03878308 0.07553420 "
      ]
     },
     "metadata": {},
     "output_type": "display_data"
    }
   ],
   "source": [
    "theme_data1 <- theme_data[theme_data$theme == 'sex',]\n",
    "lmm.model <- lmer(behave ~ neural + (1 | subj), data = theme_data1, REML=FALSE)\n",
    "lmm.model\n",
    "lmm.pval <- mixed(behave ~ neural + (1 | subj), data = theme_data1)\n",
    "lmm.pval\n",
    "r.squaredGLMM(lmm.model)"
   ]
  },
  {
   "cell_type": "code",
   "execution_count": 8,
   "metadata": {
    "collapsed": false
   },
   "outputs": [
    {
     "data": {
      "text/plain": [
       "Linear mixed model fit by maximum likelihood  ['lmerMod']\n",
       "Formula: behave ~ neural + (1 | subj)\n",
       "   Data: theme_data1\n",
       "      AIC       BIC    logLik  deviance  df.resid \n",
       "1384.9430 1401.7206 -688.4715 1376.9430       486 \n",
       "Random effects:\n",
       " Groups   Name        Std.Dev.\n",
       " subj     (Intercept) 0.2265  \n",
       " Residual             0.9663  \n",
       "Number of obs: 490, groups:  subj, 35\n",
       "Fixed Effects:\n",
       "(Intercept)       neural  \n",
       "    0.04126      0.17905  "
      ]
     },
     "metadata": {},
     "output_type": "display_data"
    },
    {
     "name": "stderr",
     "output_type": "stream",
     "text": [
      "Numerical variables NOT centered on 0 (i.e., interpretation of all main effects might be difficult if in interactions): neural\n"
     ]
    },
    {
     "name": "stdout",
     "output_type": "stream",
     "text": [
      "Fitting 2 (g)lmer() models:\n",
      "[..]\n",
      "Obtaining 1 p-values:\n",
      "[.]\n"
     ]
    },
    {
     "data": {
      "text/plain": [
       "  Effect        df F.scaling       F p.value\n",
       "1 neural 1, 487.78      1.00 7.65 **    .006"
      ]
     },
     "metadata": {},
     "output_type": "display_data"
    },
    {
     "data": {
      "text/html": [
       "<dl class=dl-horizontal>\n",
       "\t<dt>R2m</dt>\n",
       "\t\t<dd>0.0153300206243996</dd>\n",
       "\t<dt>R2c</dt>\n",
       "\t\t<dd>0.0666199392214328</dd>\n",
       "</dl>\n"
      ],
      "text/latex": [
       "\\begin{description*}\n",
       "\\item[R2m] 0.0153300206243996\n",
       "\\item[R2c] 0.0666199392214328\n",
       "\\end{description*}\n"
      ],
      "text/markdown": [
       "R2m\n",
       ":   0.0153300206243996R2c\n",
       ":   0.0666199392214328\n",
       "\n"
      ],
      "text/plain": [
       "       R2m        R2c \n",
       "0.01533002 0.06661994 "
      ]
     },
     "metadata": {},
     "output_type": "display_data"
    }
   ],
   "source": [
    "theme_data1 <- theme_data[theme_data$theme == 'work',]\n",
    "lmm.model <- lmer(behave ~ neural + (1 | subj), data = theme_data1, REML=FALSE)\n",
    "lmm.model\n",
    "lmm.pval <- mixed(behave ~ neural + (1 | subj), data = theme_data1)\n",
    "lmm.pval\n",
    "r.squaredGLMM(lmm.model)"
   ]
  },
  {
   "cell_type": "markdown",
   "metadata": {},
   "source": [
    "## Analysis 3"
   ]
  },
  {
   "cell_type": "code",
   "execution_count": 4,
   "metadata": {
    "collapsed": false
   },
   "outputs": [
    {
     "data": {
      "text/plain": [
       "Linear mixed model fit by maximum likelihood  ['lmerMod']\n",
       "Formula: neural ~ behave + (1 | subj)\n",
       "   Data: rdm_data\n",
       "      AIC       BIC    logLik  deviance  df.resid \n",
       " 3224.750  3249.238 -1608.375  3216.750      3363 \n",
       "Random effects:\n",
       " Groups   Name        Std.Dev.\n",
       " subj     (Intercept) 0.0000  \n",
       " Residual             0.3901  \n",
       "Number of obs: 3367, groups:  subj, 37\n",
       "Fixed Effects:\n",
       "(Intercept)       behave  \n",
       "     0.9447       1.1523  "
      ]
     },
     "metadata": {},
     "output_type": "display_data"
    },
    {
     "name": "stderr",
     "output_type": "stream",
     "text": [
      "Warning message:\n",
      "In mixed(neural ~ behave + (1 | subj), data = rdm_data): Due to missing values, reduced number of observations to 3367Warning message:\n",
      "In mixed(neural ~ behave + (1 | subj), data = rdm_data): Due to missing values, set.data.arg set to FALSE.Numerical variables NOT centered on 0 (i.e., interpretation of all main effects might be difficult if in interactions): behave\n"
     ]
    },
    {
     "name": "stdout",
     "output_type": "stream",
     "text": [
      "Fitting 2 (g)lmer() models:\n",
      "[..]\n",
      "Obtaining 1 p-values:\n",
      "[.]\n"
     ]
    },
    {
     "data": {
      "text/plain": [
       "  Effect         df F.scaling         F p.value\n",
       "1 behave 1, 3336.38      1.00 29.97 ***  <.0001"
      ]
     },
     "metadata": {},
     "output_type": "display_data"
    },
    {
     "data": {
      "text/html": [
       "<dl class=dl-horizontal>\n",
       "\t<dt>R2m</dt>\n",
       "\t\t<dd>0.00883148665165949</dd>\n",
       "\t<dt>R2c</dt>\n",
       "\t\t<dd>0.00883148665165949</dd>\n",
       "</dl>\n"
      ],
      "text/latex": [
       "\\begin{description*}\n",
       "\\item[R2m] 0.00883148665165949\n",
       "\\item[R2c] 0.00883148665165949\n",
       "\\end{description*}\n"
      ],
      "text/markdown": [
       "R2m\n",
       ":   0.00883148665165949R2c\n",
       ":   0.00883148665165949\n",
       "\n"
      ],
      "text/plain": [
       "        R2m         R2c \n",
       "0.008831487 0.008831487 "
      ]
     },
     "metadata": {},
     "output_type": "display_data"
    }
   ],
   "source": [
    "fn <- paste(\"brand\", s1, s2, \"rdm.csv\", sep = \"_\")\n",
    "rdm_data <- read.csv(fn)\n",
    "rdm_data <- rdm_data[rdm_data$subj != 8,]\n",
    "#rdm_data1 <- rdm_data[rdm_data$method == 0 & rdm_data$section == 0,]\n",
    "lmm.model <- lmer(neural ~ behave + (1 | subj), data = rdm_data, REML=FALSE)\n",
    "lmm.model\n",
    "lmm.pval <- mixed(neural ~ behave + (1 | subj), data = rdm_data)\n",
    "lmm.pval\n",
    "r.squaredGLMM(lmm.model)"
   ]
  },
  {
   "cell_type": "code",
   "execution_count": 93,
   "metadata": {
    "collapsed": false
   },
   "outputs": [
    {
     "data": {
      "text/plain": [
       "Linear mixed model fit by maximum likelihood  ['lmerMod']\n",
       "Formula: neural ~ cobrand + (1 | subj)\n",
       "   Data: rdm_data\n",
       "      AIC       BIC    logLik  deviance  df.resid \n",
       "1498.3822 1519.8303 -745.1911 1490.3822      1571 \n",
       "Random effects:\n",
       " Groups   Name        Std.Dev.\n",
       " subj     (Intercept) 0.0000  \n",
       " Residual             0.3884  \n",
       "Number of obs: 1575, groups:  subj, 35\n",
       "Fixed Effects:\n",
       "(Intercept)      cobrand  \n",
       "  1.0880924   -0.0009064  "
      ]
     },
     "metadata": {},
     "output_type": "display_data"
    },
    {
     "name": "stderr",
     "output_type": "stream",
     "text": [
      "Warning message:\n",
      "In mixed(neural ~ cobrand + (1 | subj), data = rdm_data): Due to missing values, reduced number of observations to 1575Warning message:\n",
      "In mixed(neural ~ cobrand + (1 | subj), data = rdm_data): Due to missing values, set.data.arg set to FALSE.Numerical variables NOT centered on 0 (i.e., interpretation of all main effects might be difficult if in interactions): cobrand\n"
     ]
    },
    {
     "name": "stdout",
     "output_type": "stream",
     "text": [
      "Fitting 2 (g)lmer() models:\n",
      "[..]\n",
      "Obtaining 1 p-values:\n",
      "[.]\n"
     ]
    },
    {
     "data": {
      "text/plain": [
       "   Effect         df F.scaling       F p.value\n",
       "1 cobrand 1, 1411.26      1.00 8.15 **    .004"
      ]
     },
     "metadata": {},
     "output_type": "display_data"
    },
    {
     "data": {
      "text/html": [
       "<dl class=dl-horizontal>\n",
       "\t<dt>R2m</dt>\n",
       "\t\t<dd>0.00519923541074646</dd>\n",
       "\t<dt>R2c</dt>\n",
       "\t\t<dd>0.00519923541074646</dd>\n",
       "</dl>\n"
      ],
      "text/latex": [
       "\\begin{description*}\n",
       "\\item[R2m] 0.00519923541074646\n",
       "\\item[R2c] 0.00519923541074646\n",
       "\\end{description*}\n"
      ],
      "text/markdown": [
       "R2m\n",
       ":   0.00519923541074646R2c\n",
       ":   0.00519923541074646\n",
       "\n"
      ],
      "text/plain": [
       "        R2m         R2c \n",
       "0.005199235 0.005199235 "
      ]
     },
     "metadata": {},
     "output_type": "display_data"
    }
   ],
   "source": [
    "fn <- paste(\"brand\", s1, s2, \"rdm.csv\", sep = \"_\")\n",
    "rdm_data <- read.csv(fn)\n",
    "rdm_data <- rdm_data[rdm_data$subj != 8,]\n",
    "#rdm_data1 <- rdm_data[rdm_data$method == 0 & rdm_data$section == 0,]\n",
    "lmm.model <- lmer(neural ~ cobrand + (1 | subj), data = rdm_data, REML=FALSE)\n",
    "lmm.model\n",
    "lmm.pval <- mixed(neural ~ cobrand + (1 | subj), data = rdm_data)\n",
    "lmm.pval\n",
    "r.squaredGLMM(lmm.model)"
   ]
  },
  {
   "cell_type": "markdown",
   "metadata": {},
   "source": [
    "## Analysis 4"
   ]
  },
  {
   "cell_type": "code",
   "execution_count": 69,
   "metadata": {
    "collapsed": false
   },
   "outputs": [
    {
     "data": {
      "text/plain": [
       "Linear mixed model fit by maximum likelihood  ['lmerMod']\n",
       "Formula: neural ~ behave + (1 | subj)\n",
       "   Data: fam_data\n",
       "      AIC       BIC    logLik  deviance  df.resid \n",
       "-1999.335 -1982.501  1003.668 -2007.335       493 \n",
       "Random effects:\n",
       " Groups   Name        Std.Dev.\n",
       " subj     (Intercept) 0.005426\n",
       " Residual             0.031724\n",
       "Number of obs: 497, groups:  subj, 36\n",
       "Fixed Effects:\n",
       "(Intercept)       behave  \n",
       "   1.000991    -0.001733  "
      ]
     },
     "metadata": {},
     "output_type": "display_data"
    },
    {
     "name": "stderr",
     "output_type": "stream",
     "text": [
      "Numerical variables NOT centered on 0 (i.e., interpretation of all main effects might be difficult if in interactions): behave\n"
     ]
    },
    {
     "name": "stdout",
     "output_type": "stream",
     "text": [
      "Fitting 2 (g)lmer() models:\n",
      "[..]\n",
      "Obtaining 1 p-values:\n",
      "[.]\n"
     ]
    },
    {
     "data": {
      "text/plain": [
       "  Effect        df F.scaling      F p.value\n",
       "1 behave 1, 464.20      1.00 3.19 +     .07"
      ]
     },
     "metadata": {},
     "output_type": "display_data"
    },
    {
     "data": {
      "text/html": [
       "<dl class=dl-horizontal>\n",
       "\t<dt>R2m</dt>\n",
       "\t\t<dd>0.00665207355479022</dd>\n",
       "\t<dt>R2c</dt>\n",
       "\t\t<dd>0.03488620804736</dd>\n",
       "</dl>\n"
      ],
      "text/latex": [
       "\\begin{description*}\n",
       "\\item[R2m] 0.00665207355479022\n",
       "\\item[R2c] 0.03488620804736\n",
       "\\end{description*}\n"
      ],
      "text/markdown": [
       "R2m\n",
       ":   0.00665207355479022R2c\n",
       ":   0.03488620804736\n",
       "\n"
      ],
      "text/plain": [
       "        R2m         R2c \n",
       "0.006652074 0.034886208 "
      ]
     },
     "metadata": {},
     "output_type": "display_data"
    }
   ],
   "source": [
    "fn <- paste(\"brand\", s1, s2, \"familiarity.csv\", sep = \"_\")\n",
    "fam_data <- read.csv(fn)\n",
    "fam_data <- fam_data[fam_data$subj != 8,]\n",
    "lmm.model <- lmer(neural ~ behave + (1 | subj), data = fam_data, REML=FALSE)\n",
    "lmm.model\n",
    "lmm.pval <- mixed(neural ~ behave + (1 | subj), data = fam_data)\n",
    "lmm.pval\n",
    "r.squaredGLMM(lmm.model)"
   ]
  },
  {
   "cell_type": "markdown",
   "metadata": {},
   "source": [
    "## Misc"
   ]
  },
  {
   "cell_type": "code",
   "execution_count": 48,
   "metadata": {
    "collapsed": false
   },
   "outputs": [
    {
     "data": {
      "text/plain": [
       "Linear mixed model fit by REML ['lmerMod']\n",
       "Formula: cobrand ~ neural + brightness + behave + (1 | subj)\n",
       "   Data: mediation_data\n",
       "\n",
       "REML criterion at convergence: 4106.3\n",
       "\n",
       "Scaled residuals: \n",
       "    Min      1Q  Median      3Q     Max \n",
       "-2.3394 -0.7614 -0.0901  0.6718  3.4388 \n",
       "\n",
       "Random effects:\n",
       " Groups   Name        Variance Std.Dev.\n",
       " subj     (Intercept) 0.05795  0.2407  \n",
       " Residual             0.70285  0.8384  \n",
       "Number of obs: 1620, groups:  subj, 36\n",
       "\n",
       "Fixed effects:\n",
       "              Estimate Std. Error t value\n",
       "(Intercept) -0.0501503  0.0515633  -0.973\n",
       "neural      -0.0533056  0.0211285  -2.523\n",
       "brightness   0.0017627  0.0008718   2.022\n",
       "behave      -0.4838360  0.0210525 -22.982\n",
       "\n",
       "Correlation of Fixed Effects:\n",
       "           (Intr) neural brghtn\n",
       "neural     -0.042              \n",
       "brightness -0.481  0.087       \n",
       "behave     -0.006 -0.091  0.012"
      ]
     },
     "execution_count": 48,
     "metadata": {},
     "output_type": "execute_result"
    },
    {
     "name": "stderr",
     "output_type": "stream",
     "text": [
      "Numerical variables NOT centered on 0 (i.e., interpretation of all main effects might be difficult if in interactions): brightness\n"
     ]
    },
    {
     "name": "stdout",
     "output_type": "stream",
     "text": [
      "Fitting 4 (g)lmer() models:\n",
      "[....]\n",
      "Obtaining 3 p-values:\n",
      "[...]\n"
     ]
    },
    {
     "data": {
      "text/plain": [
       "      Effect         df F.scaling          F p.value\n",
       "1     neural 1, 1590.82      1.00     6.36 *     .01\n",
       "2 brightness 1, 1589.64      1.00     4.09 *     .04\n",
       "3     behave 1, 1591.14      1.00 527.98 ***  <.0001"
      ]
     },
     "execution_count": 48,
     "metadata": {},
     "output_type": "execute_result"
    }
   ],
   "source": [
    "summary(out.fit)\n",
    "lmm.pval <- mixed(cobrand ~ neural + brightness + behave + (1 | subj), data = mediation_data)\n",
    "lmm.pval"
   ]
  },
  {
   "cell_type": "code",
   "execution_count": 21,
   "metadata": {
    "collapsed": false
   },
   "outputs": [
    {
     "data": {
      "text/plain": [
       "\n",
       "Causal Mediation Analysis \n",
       "\n",
       "Quasi-Bayesian Confidence Intervals\n",
       "\n",
       "Mediator Groups: subj \n",
       "\n",
       "Outcome Groups: subj \n",
       "\n",
       "Output Based on Overall Averages Across Groups \n",
       "\n",
       "               Estimate 95% CI Lower 95% CI Upper p-value\n",
       "ACME           -0.03122     -0.05618     -0.00629    0.01\n",
       "ADE            -0.08214     -0.12339     -0.04193    0.00\n",
       "Total Effect   -0.11336     -0.16058     -0.06819    0.00\n",
       "Prop. Mediated  0.27326      0.06508      0.49412    0.01\n",
       "\n",
       "Sample Size Used: 1620 \n",
       "\n",
       "\n",
       "Simulations: 1000 \n"
      ]
     },
     "execution_count": 21,
     "metadata": {},
     "output_type": "execute_result"
    }
   ],
   "source": [
    "library('mediation')\n",
    "fn <- paste(\"brand\", s1, s2, \"mediation_indiv.csv\", sep = \"_\")\n",
    "mediation_data <- read.csv(fn)\n",
    "mediation_data$behave = scale(mediation_data$behave)\n",
    "mediation_data$cobrand = scale(mediation_data$cobrand)\n",
    "mediation_data$neural = scale(mediation_data$neural)\n",
    "\n",
    "med.fit <- lmer(behave ~ neural + brightness + contrast + (1 | subj), data = mediation_data)\n",
    "out.fit <- lmer(cobrand ~ neural + brightness + contrast + behave + (1 | subj), data = mediation_data)\n",
    "med.out <- mediate(med.fit, out.fit, treat = \"neural\", mediator = \"behave\", sims = 1000)\n",
    "\n",
    "#med.fit <- lmer(neural ~ behave + (1 | subj), data = mediation_data)\n",
    "#out.fit <- lmer(cobrand ~ neural + behave + (1 | subj), data = mediation_data)\n",
    "#med.out <- mediate(med.fit, out.fit, treat = \"behave\", mediator = \"neural\", sims = 1000)\n",
    "\n",
    "summary(med.out)"
   ]
  },
  {
   "cell_type": "code",
   "execution_count": 107,
   "metadata": {
    "collapsed": false
   },
   "outputs": [
    {
     "data": {
      "text/plain": [
       "\n",
       "Call:\n",
       "lm(formula = cobrand ~ neural, data = mediation_data)\n",
       "\n",
       "Residuals:\n",
       "    Min      1Q  Median      3Q     Max \n",
       "-40.224 -18.416  -6.279  20.266  50.152 \n",
       "\n",
       "Coefficients:\n",
       "            Estimate Std. Error t value Pr(>|t|)    \n",
       "(Intercept)   127.56      27.86   4.579 1.51e-05 ***\n",
       "neural        -84.88      26.17  -3.244  0.00166 ** \n",
       "---\n",
       "Signif. codes:  0 ‘***’ 0.001 ‘**’ 0.01 ‘*’ 0.05 ‘.’ 0.1 ‘ ’ 1\n",
       "\n",
       "Residual standard error: 23.46 on 89 degrees of freedom\n",
       "Multiple R-squared:  0.1057,\tAdjusted R-squared:  0.09567 \n",
       "F-statistic: 10.52 on 1 and 89 DF,  p-value: 0.001662\n"
      ]
     },
     "execution_count": 107,
     "metadata": {},
     "output_type": "execute_result"
    }
   ],
   "source": [
    "out.fit <- lm(cobrand ~ neural , data = mediation_data)\n",
    "summary(out.fit)"
   ]
  },
  {
   "cell_type": "code",
   "execution_count": 13,
   "metadata": {
    "collapsed": false
   },
   "outputs": [
    {
     "data": {
      "text/plain": [
       "\n",
       "Causal Mediation Analysis \n",
       "\n",
       "Quasi-Bayesian Confidence Intervals\n",
       "\n",
       "                Estimate 95% CI Lower 95% CI Upper p-value\n",
       "ACME            1.85e+01    -2.49e+01     6.93e+01    0.38\n",
       "ADE            -1.20e+03    -1.31e+03    -1.08e+03    0.00\n",
       "Total Effect   -1.18e+03    -1.29e+03    -1.07e+03    0.00\n",
       "Prop. Mediated -1.47e-02    -5.96e-02     2.04e-02    0.38\n",
       "\n",
       "Sample Size Used: 91 \n",
       "\n",
       "\n",
       "Simulations: 1000 \n"
      ]
     },
     "execution_count": 13,
     "metadata": {},
     "output_type": "execute_result"
    }
   ],
   "source": [
    "fn <- paste(\"brand\", s1, s2, \"mediation_group.csv\", sep = \"_\")\n",
    "mediation_data <- read.csv(fn)\n",
    "\n",
    "med.fit <- lm(neural ~ behave, data = mediation_data)\n",
    "out.fit <- lm(cobrand ~ neural + behave, data = mediation_data)\n",
    "med.out <- mediate(med.fit, out.fit, treat = \"behave\", mediator = \"neural\", sims = 1000)\n",
    "summary(med.out)"
   ]
  },
  {
   "cell_type": "code",
   "execution_count": 33,
   "metadata": {
    "collapsed": false
   },
   "outputs": [
    {
     "name": "stderr",
     "output_type": "stream",
     "text": [
      "Warning message:\n",
      "In file(file, \"rt\"): cannot open file 'brand_native_common_picture_1_no_occip_clust_10_cobrand.csv': No such file or directory"
     ]
    },
    {
     "ename": "ERROR",
     "evalue": "Error in file(file, \"rt\"): cannot open the connection\n",
     "output_type": "error",
     "traceback": [
      "Error in file(file, \"rt\"): cannot open the connection\n"
     ]
    },
    {
     "ename": "ERROR",
     "evalue": "Error in eval(expr, envir, enclos): object 'cobrand_data' not found\n",
     "output_type": "error",
     "traceback": [
      "Error in eval(expr, envir, enclos): object 'cobrand_data' not found\n"
     ]
    },
    {
     "ename": "ERROR",
     "evalue": "Error: 'data' not found, and some variables missing from formula environment\n",
     "output_type": "error",
     "traceback": [
      "Error: 'data' not found, and some variables missing from formula environment\n"
     ]
    },
    {
     "data": {
      "text/plain": [
       "Linear mixed model fit by maximum likelihood  ['lmerMod']\n",
       "Formula: behave ~ neural + (1 | subj)\n",
       "   Data: reliability_data\n",
       "      AIC       BIC    logLik  deviance  df.resid \n",
       "1829.2610 1846.2065 -910.6305 1821.2610       507 \n",
       "Random effects:\n",
       " Groups   Name        Std.Dev.\n",
       " subj     (Intercept) 0.5169  \n",
       " Residual             1.3829  \n",
       "Number of obs: 511, groups:  subj, 37\n",
       "Fixed Effects:\n",
       "(Intercept)       neural  \n",
       "     12.489       -7.389  "
      ]
     },
     "execution_count": 33,
     "metadata": {},
     "output_type": "execute_result"
    },
    {
     "ename": "ERROR",
     "evalue": "Error in is.factor(data[, i]): object 'cobrand_data1' not found\n",
     "output_type": "error",
     "traceback": [
      "Error in is.factor(data[, i]): object 'cobrand_data1' not found\n"
     ]
    },
    {
     "data": {
      "text/plain": [
       "  Effect        df F.scaling      F p.value\n",
       "1 neural 1, 505.39      1.00 6.11 *     .01"
      ]
     },
     "execution_count": 33,
     "metadata": {},
     "output_type": "execute_result"
    },
    {
     "data": {
      "text/html": [
       "<dl class=dl-horizontal>\n",
       "\t<dt>R2m</dt>\n",
       "\t\t<dd>0.0115294168636519</dd>\n",
       "\t<dt>R2c</dt>\n",
       "\t\t<dd>0.132714098489392</dd>\n",
       "</dl>\n"
      ],
      "text/latex": [
       "\\begin{description*}\n",
       "\\item[R2m] 0.0115294168636519\n",
       "\\item[R2c] 0.132714098489392\n",
       "\\end{description*}\n"
      ],
      "text/markdown": [
       "R2m\n",
       ":   0.0115294168636519R2c\n",
       ":   0.132714098489392\n",
       "\n"
      ],
      "text/plain": [
       "       R2m        R2c \n",
       "0.01152942 0.13271410 "
      ]
     },
     "execution_count": 33,
     "metadata": {},
     "output_type": "execute_result"
    }
   ],
   "source": [
    "fn <- paste(\"brand\", s1, s2, \"cobrand.csv\", sep = \"_\")\n",
    "cobrand_data <- read.csv(fn)\n",
    "#cobrand_data1 <- cobrand_data[cobrand_data$method == 0 & cobrand_data$section == 0,]\n",
    "lmm.model <- lmer(behave ~ neural + (1 | subj), data = cobrand_data1, REML=FALSE)\n",
    "lmm.model\n",
    "lmm.pval <- mixed(behave ~ neural + (1 | subj), data = cobrand_data1)\n",
    "lmm.pval\n",
    "r.squaredGLMM(lmm.model)"
   ]
  },
  {
   "cell_type": "code",
   "execution_count": 14,
   "metadata": {
    "collapsed": false
   },
   "outputs": [
    {
     "data": {
      "text/plain": [
       "\n",
       "\tPearson's product-moment correlation\n",
       "\n",
       "data:  reliability_data$behave and reliability_data$neural\n",
       "t = -1.8328, df = 509, p-value = 0.06741\n",
       "alternative hypothesis: true correlation is not equal to 0\n",
       "95 percent confidence interval:\n",
       " -0.16654261  0.00581009\n",
       "sample estimates:\n",
       "        cor \n",
       "-0.08097153 \n"
      ]
     },
     "execution_count": 14,
     "metadata": {},
     "output_type": "execute_result"
    }
   ],
   "source": [
    "cor.test(reliability_data$behave,reliability_data$neural)"
   ]
  },
  {
   "cell_type": "code",
   "execution_count": 13,
   "metadata": {
    "collapsed": false,
    "scrolled": false
   },
   "outputs": [
    {
     "data": {
      "text/plain": [
       "Linear mixed model fit by maximum likelihood  ['lmerMod']\n",
       "Formula: behave ~ neural + (1 | subj)\n",
       "   Data: reliability_data\n",
       "      AIC       BIC    logLik  deviance  df.resid \n",
       "1832.0915 1849.0370 -912.0458 1824.0915       507 \n",
       "Random effects:\n",
       " Groups   Name        Std.Dev.\n",
       " subj     (Intercept) 0.5291  \n",
       " Residual             1.3853  \n",
       "Number of obs: 511, groups:  subj, 37\n",
       "Fixed Effects:\n",
       "(Intercept)       neural  \n",
       "      8.820       -3.711  "
      ]
     },
     "execution_count": 13,
     "metadata": {},
     "output_type": "execute_result"
    },
    {
     "name": "stderr",
     "output_type": "stream",
     "text": [
      "Numerical variables NOT centered on 0 (i.e., interpretation of all main effects might be difficult if in interactions): neural\n"
     ]
    },
    {
     "name": "stdout",
     "output_type": "stream",
     "text": [
      "Fitting 2 (g)lmer() models:\n",
      "[..]\n",
      "Obtaining 1 p-values:\n",
      "[.]\n"
     ]
    },
    {
     "data": {
      "text/plain": [
       "  Effect        df F.scaling      F p.value\n",
       "1 neural 1, 505.65      1.00 3.29 +     .07"
      ]
     },
     "execution_count": 13,
     "metadata": {},
     "output_type": "execute_result"
    },
    {
     "data": {
      "text/html": [
       "<dl class=dl-horizontal>\n",
       "\t<dt>R2m</dt>\n",
       "\t\t<dd>0.00622364917014133</dd>\n",
       "\t<dt>R2c</dt>\n",
       "\t\t<dd>0.132739283096241</dd>\n",
       "</dl>\n"
      ],
      "text/latex": [
       "\\begin{description*}\n",
       "\\item[R2m] 0.00622364917014133\n",
       "\\item[R2c] 0.132739283096241\n",
       "\\end{description*}\n"
      ],
      "text/markdown": [
       "R2m\n",
       ":   0.00622364917014133R2c\n",
       ":   0.132739283096241\n",
       "\n"
      ],
      "text/plain": [
       "        R2m         R2c \n",
       "0.006223649 0.132739283 "
      ]
     },
     "execution_count": 13,
     "metadata": {},
     "output_type": "execute_result"
    }
   ],
   "source": [
    "fn <- paste(\"brand\", s1, s2, \"reliability.csv\", sep = \"_\")\n",
    "reliability_data <- read.csv(fn)\n",
    "lmm.model <- lmer(behave ~ neural + (1 | subj), data = reliability_data, REML=FALSE)\n",
    "lmm.model\n",
    "lmm.pval <- mixed(behave ~ neural + (1 | subj), data = reliability_data)\n",
    "lmm.pval\n",
    "r.squaredGLMM(lmm.model)"
   ]
  }
 ],
 "metadata": {
  "kernelspec": {
   "display_name": "R",
   "language": "R",
   "name": "ir"
  },
  "language_info": {
   "codemirror_mode": "r",
   "file_extension": ".r",
   "mimetype": "text/x-r-source",
   "name": "R",
   "pygments_lexer": "r",
   "version": "3.4.3"
  }
 },
 "nbformat": 4,
 "nbformat_minor": 0
}
